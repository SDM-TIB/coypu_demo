{
 "cells": [
  {
   "cell_type": "code",
   "execution_count": null,
   "id": "75394514-8b89-4c8c-987c-3207f9c03d17",
   "metadata": {},
   "outputs": [],
   "source": [
    "# Third party packages\n",
    "import pandas as pd\n",
    "import plotly.express as px\n",
    "import plotly.io as pio\n",
    "pio.renderers.default = \"browser\"\n",
    "import matplotlib.pyplot as plt\n",
    "from io import StringIO\n",
    "from IPython.display import display\n",
    "\n",
    "# Adding path\n",
    "from os.path import abspath\n",
    "import sys\n",
    "sys.path.insert(0, abspath('..'))\n",
    "\n",
    "# \n",
    "from query_request import *\n",
    "from query_def import *\n",
    "import credentials\n",
    "# from sqlalchemy import create_engine\n",
    "\n",
    "# pandas display settings\n",
    "pd.options.display.max_rows = 999\n",
    "pd.options.display.max_columns = 999\n",
    "pd.options.display.max_colwidth=None\n"
   ]
  },
  {
   "cell_type": "markdown",
   "id": "2a6b3358-dd2d-4caa-8c3b-78761c85ee19",
   "metadata": {},
   "source": [
    "# [Federated Query Engine (DeTrusty)](https://github.com/SDM-TIB/DeTrusty)\n",
    "**A federated query engine**\n",
    "\n",
    "Step to run Detruty against the federation of `Knowledge Graphs`: \n",
    "* [Install and Run](https://github.com/SDM-TIB/DeTrusty)\n",
    "* Create [Endpoints](../../configs/endpoints_sample.json) file and [RDF Molecule Template](../../configs/rdfmts_public.json)\n",
    "* Run query using `Detrusty.run_query`"
   ]
  },
  {
   "cell_type": "code",
   "execution_count": null,
   "id": "2ae35b81-d235-44c2-8160-6ba7faaf11ec",
   "metadata": {},
   "outputs": [],
   "source": [
    "# create rdfmts\n",
    "from DeTrusty import run_query\n",
    "from DeTrusty.Molecule.MTCreation import create_rdfmts\n",
    "from DeTrusty.Molecule.MTManager import ConfigFile\n",
    "\n",
    "# Creating endpoints dictionary\n",
    "endpoints = dictfrmjson('../configs/endpoints_sample.json')\n",
    "print(endpoints)\n",
    "\n",
    "# Creating RDF molecule template (rdfmts) from endpoints\n",
    "# log_rdfmts = create_rdfmts(endpoints, '../configs/rdfmts.json')\n",
    "\n",
    "# if already rdfmts has been created \n",
    "config_private = ConfigFile('../configs/rdfmts_private.json')\n",
    "config_public = ConfigFile('../configs/rdfmts_public.json')"
   ]
  },
  {
   "cell_type": "markdown",
   "id": "b2561813-85b1-4d4f-992a-f16d4b37fb7c",
   "metadata": {},
   "source": [
    "## Endpoints Status"
   ]
  },
  {
   "cell_type": "code",
   "execution_count": null,
   "id": "c87047ac-b265-460a-a20d-2b917e3fa4fd",
   "metadata": {},
   "outputs": [],
   "source": [
    "# Demo query to all available enpoints\n",
    "\n",
    "# demo query\n",
    "query_test = \"\"\"SELECT * WHERE{ ?Subject a ?Concept }LIMIT 1000\"\"\"\n",
    "\n",
    "\n",
    "# creating request for cmemc\n",
    "display(\"############### Cmemc Endpoint ###############\")\n",
    "cmemc_request = SPARQLRequest(client_url_imp, client_id_imp, client_secret_imp , 'oauth')\n",
    "# executing query and printing response\n",
    "cmemc_request.execute(query_test)\n",
    "buf = StringIO(cmemc_request.response.content.decode('utf-8'), newline='\\r\\n')          \n",
    "display(pd.read_csv(buf, encoding='utf-8').tail(5))\n",
    "\n",
    "# creating request for skynet\n",
    "display(\"############### Skynet Endpoint ###############\")\n",
    "skynet_request = SPARQLRequest(skynet_endpoint, skynet_user, skynet_pass, 'basic')\n",
    "# executing query and printing response\n",
    "skynet_request.execute(query_test)\n",
    "buf = StringIO(skynet_request.response.content.decode('utf-8'), newline='\\r\\n')          \n",
    "display(pd.read_csv(buf, encoding='utf-8').tail(5))\n",
    "\n",
    "# creating request for worldbank\n",
    "display(\"############### Worldbank Endpoint ###############\")\n",
    "worldbank_request = SPARQLRequest(worldbank_endpoint)\n",
    "# executing query and printing response\n",
    "worldbank_request.execute(query_test)\n",
    "display(worldbank_request.response.status_code)\n",
    "buf = StringIO(worldbank_request.response.content.decode('utf-8'), newline='\\r\\n')          \n",
    "display(pd.read_csv(buf, encoding='utf-8').tail(5))\n",
    "\n",
    "# creating request for LEI\n",
    "display(\"############### LEI Endpoint ###############\")\n",
    "lei_request = SPARQLRequest(lei_endpoint)\n",
    "# executing query and printing response\n",
    "lei_request.execute(query_test)\n",
    "buf = StringIO(lei_request.response.content.decode('utf-8'), newline='\\r\\n')          \n",
    "display(pd.read_csv(buf, encoding='utf-8').tail(5))\n",
    "\n",
    "# creating request for ICEWS\n",
    "display(\"############### ICEWS Endpoint ###############\")\n",
    "icews_request = SPARQLRequest(icews_endpoint)\n",
    "# executing query and printing response\n",
    "icews_request.execute(query_test)\n",
    "buf = StringIO(icews_request.response.content.decode('utf-8'), newline='\\r\\n')          \n",
    "display(pd.read_csv(buf, encoding='utf-8').tail(5))\n"
   ]
  },
  {
   "cell_type": "markdown",
   "id": "3b610e0f-a2e6-43dc-a755-ec47c352c4c1",
   "metadata": {},
   "source": [
    "## Federated Query"
   ]
  },
  {
   "cell_type": "code",
   "execution_count": null,
   "id": "849bcb53-a494-41a0-847b-7e2d58015579",
   "metadata": {},
   "outputs": [],
   "source": [
    "# creating request for Federated Query\n",
    "display(\"############### Federated Query ###############\")\n",
    "fdq_request = SPARQLRequest(is_fdq=True)\n",
    "fdq_request.execute(query_test, config_public, False)\n",
    "fdq_request.save('../query_results/', 'query_test')"
   ]
  },
  {
   "cell_type": "code",
   "execution_count": null,
   "id": "9e47c410-b348-4c1e-90cf-2abcd0aeef98",
   "metadata": {},
   "outputs": [],
   "source": [
    "print(query_4_fdq_ex_1)\n",
    "query_4_fdq_ex_1 = \"\"\"PREFIX coy: <https://schema.coypu.org/global#>\n",
    "PREFIX rdfs: <http://www.w3.org/2000/01/rdf-schema#>\n",
    "PREFIX xsd: <http://www.w3.org/2001/XMLSchema#>\n",
    "PREFIX owl: <http://www.w3.org/2002/07/owl#>\n",
    "PREFIX skos: <http://www.w3.org/2004/02/skos/core#>\n",
    "PREFIX time: <http://www.w3.org/2006/time#>\n",
    "\n",
    "PREFIX wd: <http://www.wikidata.org/entity/>\n",
    "PREFIX wds: <http://www.wikidata.org/entity/statement/>\n",
    "PREFIX wdv: <http://www.wikidata.org/value/>\n",
    "PREFIX wdt: <http://www.wikidata.org/prop/direct/>\n",
    "PREFIX wikibase: <http://wikiba.se/ontology#>\n",
    "PREFIX p: <http://www.wikidata.org/prop/>\n",
    "PREFIX ps: <http://www.wikidata.org/prop/statement/>\n",
    "PREFIX pq: <http://www.wikidata.org/prop/qualifier/>\n",
    "PREFIX bd: <http://www.bigdata.com/rdf#>\n",
    "\n",
    "SELECT ?year (COUNT(?iri) AS ?no_of_events) \n",
    "WHERE {\n",
    "    ?iri a coy:Conflict .\n",
    "    ?iri coy:hasIsoCode 'IDN' .\n",
    "    ?iri coy:hasTimestamp ?timestamp .\n",
    "    ?iri coy:hasFatalities ?fatalities .\n",
    "    BIND(year(?timestamp) as ?year)\n",
    "    \n",
    "    ?countryWiki p:P298 ?isoCode .\n",
    "    ?isoCode ps:P298 'IDN' .\n",
    "    ?countryWiki p:P1082 ?itemP .\n",
    "    ?itemP pq:P585 ?time .\n",
    "    ?itemP ps:P1082 ?population .\n",
    "    BIND(year(?time) as ?year)\n",
    "}\n",
    "GROUP BY ?year\"\"\"\n",
    "\n",
    "fdq_request.execute(query_4_fdq_ex_1, config_private, False)\n",
    "fdq_request.save('../query_results/', 'query_4_fdq_ex_1')"
   ]
  },
  {
   "cell_type": "markdown",
   "id": "366fb0f6-f58b-47bd-8ebf-d9b92bc75d20",
   "metadata": {},
   "source": [
    "## Visualization"
   ]
  },
  {
   "cell_type": "code",
   "execution_count": null,
   "id": "815e669d-34f1-4637-ab70-427021f4e240",
   "metadata": {},
   "outputs": [],
   "source": [
    "\n",
    "df = pd.read_csv('../../query_results/query_4_fdq_ex_1.csv', encoding='utf-8')\n",
    "\n",
    "df"
   ]
  }
 ],
 "metadata": {
  "kernelspec": {
   "display_name": "Python 3 (ipykernel)",
   "language": "python",
   "name": "python3"
  },
  "language_info": {
   "codemirror_mode": {
    "name": "ipython",
    "version": 3
   },
   "file_extension": ".py",
   "mimetype": "text/x-python",
   "name": "python",
   "nbconvert_exporter": "python",
   "pygments_lexer": "ipython3",
   "version": "3.10.8"
  },
  "toc-autonumbering": true,
  "toc-showcode": true,
  "toc-showmarkdowntxt": true,
  "vscode": {
   "interpreter": {
    "hash": "1f01d2debc0dab2131111cf4fcc295bf8655e407cc17f23f4d91786b78fe5ca1"
   }
  }
 },
 "nbformat": 4,
 "nbformat_minor": 5
}
