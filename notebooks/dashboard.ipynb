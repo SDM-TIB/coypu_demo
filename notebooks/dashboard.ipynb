{
 "cells": [
  {
   "cell_type": "code",
   "execution_count": 1,
   "id": "8fc23273-81f2-452d-9a07-1af74d605709",
   "metadata": {},
   "outputs": [],
   "source": [
    "from dash import Dash, dcc, html, Input, Output\n",
    "import plotly.express as px\n",
    "from jupyter_dash import JupyterDash\n",
    "import numpy as np\n",
    "\n",
    "import pandas as pd\n",
    "\n",
    "app = JupyterDash(__name__)\n",
    "\n",
    "df = pd.read_csv('../query_results/country_indicators.csv')\n",
    "\n",
    "app.layout = html.Div([\n",
    "    html.Div([\n",
    "        \n",
    "        html.Div([\n",
    "            dcc.Dropdown(\n",
    "                np.insert(df['Country Name'].unique(), 0, 'All Countries'),\n",
    "                'All Countries',\n",
    "                id='country-name',\n",
    "                multi=True,\n",
    "                searchable=True,\n",
    "            ),\n",
    "        ], style={'width': '30%', 'display': 'inline-block'}),\n",
    "\n",
    "        html.Div([\n",
    "            dcc.Dropdown(\n",
    "                df['Indicator Name'].unique(),\n",
    "                'Fertility rate, total (births per woman)',\n",
    "                id='xaxis-column'\n",
    "            ),\n",
    "            dcc.RadioItems(\n",
    "                ['Linear', 'Log'],\n",
    "                'Linear',\n",
    "                id='xaxis-type',\n",
    "                inline=True\n",
    "            )\n",
    "        ], style={'width': '30%', 'display': 'inline-block'}),\n",
    "        \n",
    "\n",
    "        html.Div([\n",
    "            dcc.Dropdown(\n",
    "                df['Indicator Name'].unique(),\n",
    "                'Life expectancy at birth, total (years)',\n",
    "                id='yaxis-column'\n",
    "            ),\n",
    "            dcc.RadioItems(\n",
    "                ['Linear', 'Log'],\n",
    "                'Linear',\n",
    "                id='yaxis-type',\n",
    "                inline=True\n",
    "            )\n",
    "        ], style={'width': '30%', 'display': 'inline-block'})\n",
    "    ]),\n",
    "\n",
    "    dcc.Graph(id='indicator-graphic'),\n",
    "    \n",
    "    dcc.RangeSlider(\n",
    "        min=df['Year'].min(), \n",
    "        max=df['Year'].max(), \n",
    "        step=5, \n",
    "        value=[df['Year'].min()+10, df['Year'].max()-10], \n",
    "        id='year-range-slider',\n",
    "        marks={str(year): str(year) for year in df['Year'].unique()},\n",
    "    )\n",
    "])\n",
    "\n",
    "\n",
    "@app.callback(\n",
    "    Output('indicator-graphic', 'figure'),\n",
    "    Input('country-name', 'value'),\n",
    "    Input('xaxis-column', 'value'),\n",
    "    Input('yaxis-column', 'value'),\n",
    "    Input('xaxis-type', 'value'),\n",
    "    Input('yaxis-type', 'value'),\n",
    "    Input('year-range-slider', 'value'))\n",
    "def update_graph(country_name, xaxis_column_name, yaxis_column_name,\n",
    "                 xaxis_type, yaxis_type, year_value):\n",
    "    \n",
    "    print (country_name, xaxis_column_name, yaxis_column_name,\n",
    "                 xaxis_type, yaxis_type, year_value)\n",
    "    \n",
    "    \n",
    "    if  'All Countries' in country_name :\n",
    "        dff = df[(df['Year'] >= year_value[0]) & (df['Year'] <= year_value[1])]\n",
    "        dff.set_index('Year', inplace=True, drop=False)\n",
    "        print(dff.head(5))\n",
    "        # dff = dff.sort_values(by='Year')\n",
    "        print(dff.columns)\n",
    "\n",
    "\n",
    "        fig = px.scatter(x=dff[dff['Indicator Name'] == xaxis_column_name]['Value'],\n",
    "                         y=dff[dff['Indicator Name'] == yaxis_column_name]['Value'],\n",
    "                         hover_name=dff[dff['Indicator Name'] == yaxis_column_name]['Country Name']+'_'\\\n",
    "                         +dff[dff['Indicator Name'] == yaxis_column_name]['Year'].apply(str),\n",
    "                         #hover_data=dff[dff['Indicator Name'] == yaxis_column_name]['Year'],\n",
    "                         color=dff[dff['Indicator Name'] == yaxis_column_name]['Country Name']\n",
    "                        )\n",
    "        \n",
    "        print('If Executed')\n",
    "\n",
    "        fig.update_layout(margin={'l': 40, 'b': 40, 't': 10, 'r': 0}, hovermode='closest')\n",
    "\n",
    "        fig.update_xaxes(title=xaxis_column_name,\n",
    "                         type='linear' if xaxis_type == 'Linear' else 'log')\n",
    "\n",
    "        fig.update_yaxes(title=yaxis_column_name,\n",
    "                         type='linear' if yaxis_type == 'Linear' else 'log')\n",
    "    else:\n",
    "        dff = df[(df['Country Name'].isin(country_name)) &\\\n",
    "                 (df['Year'] >= year_value[0]) & (df['Year'] <= year_value[1])]\n",
    "        \n",
    "        dff.set_index('Year', inplace=True, drop=False)\n",
    "        print(dff.columns)\n",
    "        \n",
    "\n",
    "        \"\"\"fig = px.scatter(x=dff[dff['Indicator Name'] == xaxis_column_name]['Value'],\n",
    "                         y=dff[dff['Indicator Name'] == yaxis_column_name]['Value'],\n",
    "                         hover_name=dff[dff['Indicator Name'] == yaxis_column_name]['Year'])\"\"\"\n",
    "        \n",
    "        fig = px.line(x=dff[dff['Indicator Name'] == xaxis_column_name]['Value'],\\\n",
    "                y=dff[dff['Indicator Name'] == yaxis_column_name]['Value'],\\\n",
    "                text = dff[dff['Indicator Name'] == yaxis_column_name]['Year'],\\\n",
    "                color=dff[dff['Indicator Name'] == yaxis_column_name]['Country Name'])\n",
    "        \n",
    "        print('Else Executed')\n",
    "\n",
    "        fig.update_layout(margin={'l': 40, 'b': 40, 't': 10, 'r': 0}, hovermode='closest')\n",
    "\n",
    "        fig.update_xaxes(title=xaxis_column_name,\n",
    "                         type='linear' if xaxis_type == 'Linear' else 'log')\n",
    "\n",
    "        fig.update_yaxes(title=yaxis_column_name,\n",
    "                         type='linear' if yaxis_type == 'Linear' else 'log')\n",
    "        \n",
    "\n",
    "    return fig"
   ]
  },
  {
   "cell_type": "code",
   "execution_count": null,
   "id": "39c8f760-40cd-410d-bdce-9eab2e68d972",
   "metadata": {},
   "outputs": [
    {
     "name": "stdout",
     "output_type": "stream",
     "text": [
      " * Serving Flask app '__main__'\n",
      " * Debug mode: off\n"
     ]
    },
    {
     "name": "stderr",
     "output_type": "stream",
     "text": [
      "\u001b[31m\u001b[1mWARNING: This is a development server. Do not use it in a production deployment. Use a production WSGI server instead.\u001b[0m\n",
      " * Running on http://127.0.0.1:8896\n",
      "\u001b[33mPress CTRL+C to quit\u001b[0m\n",
      "127.0.0.1 - - [06/Mar/2023 14:39:01] \"GET / HTTP/1.1\" 200 -\n",
      "127.0.0.1 - - [06/Mar/2023 14:39:01] \"GET /_dash-layout HTTP/1.1\" 200 -\n",
      "127.0.0.1 - - [06/Mar/2023 14:39:01] \"GET /_dash-dependencies HTTP/1.1\" 200 -\n",
      "127.0.0.1 - - [06/Mar/2023 14:39:01] \"\u001b[36mGET /_dash-component-suites/dash/dcc/async-dropdown.js HTTP/1.1\u001b[0m\" 304 -\n",
      "127.0.0.1 - - [06/Mar/2023 14:39:02] \"\u001b[36mGET /_dash-component-suites/dash/dcc/async-graph.js HTTP/1.1\u001b[0m\" 304 -\n",
      "127.0.0.1 - - [06/Mar/2023 14:39:02] \"\u001b[36mGET /_dash-component-suites/dash/dcc/async-slider.js HTTP/1.1\u001b[0m\" 304 -\n",
      "127.0.0.1 - - [06/Mar/2023 14:39:02] \"\u001b[36mGET /_dash-component-suites/dash/dcc/async-plotlyjs.js HTTP/1.1\u001b[0m\" 304 -\n",
      "127.0.0.1 - - [06/Mar/2023 14:39:02] \"\u001b[35m\u001b[1mPOST /_dash-update-component HTTP/1.1\u001b[0m\" 500 -\n"
     ]
    },
    {
     "name": "stdout",
     "output_type": "stream",
     "text": [
      "All Countries Fertility rate, total (births per woman) Life expectancy at birth, total (years) Linear Linear [1972, 1997]\n",
      "     Country Name                                     Indicator Name  Year  \\\n",
      "Year                                                                         \n",
      "1972   Arab World                Agriculture, value added (% of GDP)  1972   \n",
      "1972   Arab World             CO2 emissions (metric tons per capita)  1972   \n",
      "1972   Arab World  Domestic credit provided by financial sector (...  1972   \n",
      "1972   Arab World        Electric power consumption (kWh per capita)  1972   \n",
      "1972   Arab World       Energy use (kg of oil equivalent per capita)  1972   \n",
      "\n",
      "           Value  \n",
      "Year              \n",
      "1972         NaN  \n",
      "1972    2.118561  \n",
      "1972   26.362582  \n",
      "1972  210.592313  \n",
      "1972  411.951770  \n"
     ]
    },
    {
     "name": "stderr",
     "output_type": "stream",
     "text": [
      "127.0.0.1 - - [06/Mar/2023 14:39:12] \"GET / HTTP/1.1\" 200 -\n",
      "127.0.0.1 - - [06/Mar/2023 14:39:12] \"GET /_dash-layout HTTP/1.1\" 200 -\n",
      "127.0.0.1 - - [06/Mar/2023 14:39:12] \"GET /_dash-dependencies HTTP/1.1\" 200 -\n",
      "127.0.0.1 - - [06/Mar/2023 14:39:12] \"GET /_favicon.ico?v=2.7.0 HTTP/1.1\" 200 -\n",
      "127.0.0.1 - - [06/Mar/2023 14:39:12] \"\u001b[36mGET /_dash-component-suites/dash/dcc/async-dropdown.js HTTP/1.1\u001b[0m\" 304 -\n",
      "127.0.0.1 - - [06/Mar/2023 14:39:12] \"\u001b[36mGET /_dash-component-suites/dash/dcc/async-graph.js HTTP/1.1\u001b[0m\" 304 -\n",
      "127.0.0.1 - - [06/Mar/2023 14:39:12] \"\u001b[36mGET /_dash-component-suites/dash/dcc/async-slider.js HTTP/1.1\u001b[0m\" 304 -\n",
      "127.0.0.1 - - [06/Mar/2023 14:39:12] \"\u001b[36mGET /_dash-component-suites/dash/dcc/async-plotlyjs.js HTTP/1.1\u001b[0m\" 304 -\n",
      "127.0.0.1 - - [06/Mar/2023 14:39:12] \"\u001b[35m\u001b[1mPOST /_dash-update-component HTTP/1.1\u001b[0m\" 500 -\n"
     ]
    },
    {
     "name": "stdout",
     "output_type": "stream",
     "text": [
      "All Countries Fertility rate, total (births per woman) Life expectancy at birth, total (years) Linear Linear [1972, 1997]\n",
      "     Country Name                                     Indicator Name  Year  \\\n",
      "Year                                                                         \n",
      "1972   Arab World                Agriculture, value added (% of GDP)  1972   \n",
      "1972   Arab World             CO2 emissions (metric tons per capita)  1972   \n",
      "1972   Arab World  Domestic credit provided by financial sector (...  1972   \n",
      "1972   Arab World        Electric power consumption (kWh per capita)  1972   \n",
      "1972   Arab World       Energy use (kg of oil equivalent per capita)  1972   \n",
      "\n",
      "           Value  \n",
      "Year              \n",
      "1972         NaN  \n",
      "1972    2.118561  \n",
      "1972   26.362582  \n",
      "1972  210.592313  \n",
      "1972  411.951770  \n"
     ]
    },
    {
     "name": "stderr",
     "output_type": "stream",
     "text": [
      "127.0.0.1 - - [06/Mar/2023 14:39:13] \"GET / HTTP/1.1\" 200 -\n",
      "127.0.0.1 - - [06/Mar/2023 14:39:13] \"GET /_dash-layout HTTP/1.1\" 200 -\n",
      "127.0.0.1 - - [06/Mar/2023 14:39:13] \"GET /_dash-dependencies HTTP/1.1\" 200 -\n",
      "127.0.0.1 - - [06/Mar/2023 14:39:13] \"GET /_favicon.ico?v=2.7.0 HTTP/1.1\" 200 -\n",
      "127.0.0.1 - - [06/Mar/2023 14:39:13] \"\u001b[36mGET /_dash-component-suites/dash/dcc/async-dropdown.js HTTP/1.1\u001b[0m\" 304 -\n",
      "127.0.0.1 - - [06/Mar/2023 14:39:13] \"\u001b[36mGET /_dash-component-suites/dash/dcc/async-graph.js HTTP/1.1\u001b[0m\" 304 -\n",
      "127.0.0.1 - - [06/Mar/2023 14:39:13] \"\u001b[36mGET /_dash-component-suites/dash/dcc/async-slider.js HTTP/1.1\u001b[0m\" 304 -\n",
      "127.0.0.1 - - [06/Mar/2023 14:39:13] \"\u001b[36mGET /_dash-component-suites/dash/dcc/async-plotlyjs.js HTTP/1.1\u001b[0m\" 304 -\n",
      "127.0.0.1 - - [06/Mar/2023 14:39:13] \"\u001b[35m\u001b[1mPOST /_dash-update-component HTTP/1.1\u001b[0m\" 500 -\n"
     ]
    },
    {
     "name": "stdout",
     "output_type": "stream",
     "text": [
      "All Countries Fertility rate, total (births per woman) Life expectancy at birth, total (years) Linear Linear [1972, 1997]\n",
      "     Country Name                                     Indicator Name  Year  \\\n",
      "Year                                                                         \n",
      "1972   Arab World                Agriculture, value added (% of GDP)  1972   \n",
      "1972   Arab World             CO2 emissions (metric tons per capita)  1972   \n",
      "1972   Arab World  Domestic credit provided by financial sector (...  1972   \n",
      "1972   Arab World        Electric power consumption (kWh per capita)  1972   \n",
      "1972   Arab World       Energy use (kg of oil equivalent per capita)  1972   \n",
      "\n",
      "           Value  \n",
      "Year              \n",
      "1972         NaN  \n",
      "1972    2.118561  \n",
      "1972   26.362582  \n",
      "1972  210.592313  \n",
      "1972  411.951770  \n"
     ]
    },
    {
     "name": "stderr",
     "output_type": "stream",
     "text": [
      "127.0.0.1 - - [06/Mar/2023 14:39:14] \"GET / HTTP/1.1\" 200 -\n",
      "127.0.0.1 - - [06/Mar/2023 14:39:14] \"GET /_dash-dependencies HTTP/1.1\" 200 -\n",
      "127.0.0.1 - - [06/Mar/2023 14:39:14] \"GET /_dash-layout HTTP/1.1\" 200 -\n",
      "127.0.0.1 - - [06/Mar/2023 14:39:14] \"\u001b[36mGET /_dash-component-suites/dash/dcc/async-dropdown.js HTTP/1.1\u001b[0m\" 304 -\n",
      "127.0.0.1 - - [06/Mar/2023 14:39:14] \"\u001b[36mGET /_dash-component-suites/dash/dcc/async-graph.js HTTP/1.1\u001b[0m\" 304 -\n",
      "127.0.0.1 - - [06/Mar/2023 14:39:14] \"GET /_favicon.ico?v=2.7.0 HTTP/1.1\" 200 -\n",
      "127.0.0.1 - - [06/Mar/2023 14:39:14] \"\u001b[36mGET /_dash-component-suites/dash/dcc/async-plotlyjs.js HTTP/1.1\u001b[0m\" 304 -\n",
      "127.0.0.1 - - [06/Mar/2023 14:39:14] \"\u001b[36mGET /_dash-component-suites/dash/dcc/async-slider.js HTTP/1.1\u001b[0m\" 304 -\n",
      "127.0.0.1 - - [06/Mar/2023 14:39:14] \"\u001b[35m\u001b[1mPOST /_dash-update-component HTTP/1.1\u001b[0m\" 500 -\n"
     ]
    },
    {
     "name": "stdout",
     "output_type": "stream",
     "text": [
      "All Countries Fertility rate, total (births per woman) Life expectancy at birth, total (years) Linear Linear [1972, 1997]\n",
      "     Country Name                                     Indicator Name  Year  \\\n",
      "Year                                                                         \n",
      "1972   Arab World                Agriculture, value added (% of GDP)  1972   \n",
      "1972   Arab World             CO2 emissions (metric tons per capita)  1972   \n",
      "1972   Arab World  Domestic credit provided by financial sector (...  1972   \n",
      "1972   Arab World        Electric power consumption (kWh per capita)  1972   \n",
      "1972   Arab World       Energy use (kg of oil equivalent per capita)  1972   \n",
      "\n",
      "           Value  \n",
      "Year              \n",
      "1972         NaN  \n",
      "1972    2.118561  \n",
      "1972   26.362582  \n",
      "1972  210.592313  \n",
      "1972  411.951770  \n"
     ]
    },
    {
     "name": "stderr",
     "output_type": "stream",
     "text": [
      "127.0.0.1 - - [06/Mar/2023 14:39:16] \"\u001b[35m\u001b[1mPOST /_dash-update-component HTTP/1.1\u001b[0m\" 500 -\n"
     ]
    },
    {
     "name": "stdout",
     "output_type": "stream",
     "text": [
      "All Countries Fertility rate, total (births per woman) Life expectancy at birth, total (years) Linear Linear [1982, 1997]\n",
      "     Country Name                                     Indicator Name  Year  \\\n",
      "Year                                                                         \n",
      "1982   Arab World                Agriculture, value added (% of GDP)  1982   \n",
      "1982   Arab World             CO2 emissions (metric tons per capita)  1982   \n",
      "1982   Arab World  Domestic credit provided by financial sector (...  1982   \n",
      "1982   Arab World        Electric power consumption (kWh per capita)  1982   \n",
      "1982   Arab World       Energy use (kg of oil equivalent per capita)  1982   \n",
      "\n",
      "           Value  \n",
      "Year              \n",
      "1982         NaN  \n",
      "1982    2.721731  \n",
      "1982    7.785458  \n",
      "1982  712.503979  \n",
      "1982  955.196030  \n"
     ]
    },
    {
     "name": "stderr",
     "output_type": "stream",
     "text": [
      "127.0.0.1 - - [06/Mar/2023 14:39:19] \"\u001b[35m\u001b[1mPOST /_dash-update-component HTTP/1.1\u001b[0m\" 500 -\n"
     ]
    },
    {
     "name": "stdout",
     "output_type": "stream",
     "text": [
      "All Countries Fertility rate, total (births per woman) Life expectancy at birth, total (years) Linear Linear [1987, 1997]\n",
      "     Country Name                                     Indicator Name  Year  \\\n",
      "Year                                                                         \n",
      "1987   Arab World                Agriculture, value added (% of GDP)  1987   \n",
      "1987   Arab World             CO2 emissions (metric tons per capita)  1987   \n",
      "1987   Arab World  Domestic credit provided by financial sector (...  1987   \n",
      "1987   Arab World        Electric power consumption (kWh per capita)  1987   \n",
      "1987   Arab World       Energy use (kg of oil equivalent per capita)  1987   \n",
      "\n",
      "            Value  \n",
      "Year               \n",
      "1987          NaN  \n",
      "1987     3.203023  \n",
      "1987    51.151008  \n",
      "1987   996.948197  \n",
      "1987  1086.311280  \n"
     ]
    },
    {
     "name": "stderr",
     "output_type": "stream",
     "text": [
      "127.0.0.1 - - [06/Mar/2023 14:39:22] \"\u001b[35m\u001b[1mPOST /_dash-update-component HTTP/1.1\u001b[0m\" 500 -\n"
     ]
    },
    {
     "name": "stdout",
     "output_type": "stream",
     "text": [
      "All Countries Fertility rate, total (births per woman) Life expectancy at birth, total (years) Linear Linear [1992, 1997]\n",
      "     Country Name                                     Indicator Name  Year  \\\n",
      "Year                                                                         \n",
      "1992   Arab World                Agriculture, value added (% of GDP)  1992   \n",
      "1992   Arab World             CO2 emissions (metric tons per capita)  1992   \n",
      "1992   Arab World  Domestic credit provided by financial sector (...  1992   \n",
      "1992   Arab World        Electric power consumption (kWh per capita)  1992   \n",
      "1992   Arab World       Energy use (kg of oil equivalent per capita)  1992   \n",
      "\n",
      "            Value  \n",
      "Year               \n",
      "1992          NaN  \n",
      "1992     3.454858  \n",
      "1992    46.326957  \n",
      "1992  1068.709227  \n",
      "1992  1148.140954  \n"
     ]
    },
    {
     "name": "stderr",
     "output_type": "stream",
     "text": [
      "127.0.0.1 - - [06/Mar/2023 14:39:24] \"GET / HTTP/1.1\" 200 -\n",
      "127.0.0.1 - - [06/Mar/2023 14:39:24] \"GET /_dash-layout HTTP/1.1\" 200 -\n",
      "127.0.0.1 - - [06/Mar/2023 14:39:24] \"GET /_dash-dependencies HTTP/1.1\" 200 -\n",
      "127.0.0.1 - - [06/Mar/2023 14:39:24] \"GET /_favicon.ico?v=2.7.0 HTTP/1.1\" 200 -\n",
      "127.0.0.1 - - [06/Mar/2023 14:39:24] \"\u001b[36mGET /_dash-component-suites/dash/dcc/async-dropdown.js HTTP/1.1\u001b[0m\" 304 -\n",
      "127.0.0.1 - - [06/Mar/2023 14:39:24] \"\u001b[36mGET /_dash-component-suites/dash/dcc/async-graph.js HTTP/1.1\u001b[0m\" 304 -\n",
      "127.0.0.1 - - [06/Mar/2023 14:39:24] \"\u001b[36mGET /_dash-component-suites/dash/dcc/async-slider.js HTTP/1.1\u001b[0m\" 304 -\n",
      "127.0.0.1 - - [06/Mar/2023 14:39:24] \"\u001b[35m\u001b[1mPOST /_dash-update-component HTTP/1.1\u001b[0m\" 500 -\n",
      "127.0.0.1 - - [06/Mar/2023 14:39:24] \"\u001b[36mGET /_dash-component-suites/dash/dcc/async-plotlyjs.js HTTP/1.1\u001b[0m\" 304 -\n"
     ]
    },
    {
     "name": "stdout",
     "output_type": "stream",
     "text": [
      "All Countries Fertility rate, total (births per woman) Life expectancy at birth, total (years) Linear Linear [1972, 1997]\n",
      "     Country Name                                     Indicator Name  Year  \\\n",
      "Year                                                                         \n",
      "1972   Arab World                Agriculture, value added (% of GDP)  1972   \n",
      "1972   Arab World             CO2 emissions (metric tons per capita)  1972   \n",
      "1972   Arab World  Domestic credit provided by financial sector (...  1972   \n",
      "1972   Arab World        Electric power consumption (kWh per capita)  1972   \n",
      "1972   Arab World       Energy use (kg of oil equivalent per capita)  1972   \n",
      "\n",
      "           Value  \n",
      "Year              \n",
      "1972         NaN  \n",
      "1972    2.118561  \n",
      "1972   26.362582  \n",
      "1972  210.592313  \n",
      "1972  411.951770  \n"
     ]
    },
    {
     "name": "stderr",
     "output_type": "stream",
     "text": [
      "127.0.0.1 - - [06/Mar/2023 14:39:40] \"\u001b[35m\u001b[1mPOST /_dash-update-component HTTP/1.1\u001b[0m\" 500 -\n"
     ]
    },
    {
     "name": "stdout",
     "output_type": "stream",
     "text": [
      "All Countries Fertility rate, total (births per woman) Life expectancy at birth, total (years) Linear Linear [1982, 1997]\n",
      "     Country Name                                     Indicator Name  Year  \\\n",
      "Year                                                                         \n",
      "1982   Arab World                Agriculture, value added (% of GDP)  1982   \n",
      "1982   Arab World             CO2 emissions (metric tons per capita)  1982   \n",
      "1982   Arab World  Domestic credit provided by financial sector (...  1982   \n",
      "1982   Arab World        Electric power consumption (kWh per capita)  1982   \n",
      "1982   Arab World       Energy use (kg of oil equivalent per capita)  1982   \n",
      "\n",
      "           Value  \n",
      "Year              \n",
      "1982         NaN  \n",
      "1982    2.721731  \n",
      "1982    7.785458  \n",
      "1982  712.503979  \n",
      "1982  955.196030  \n"
     ]
    },
    {
     "name": "stderr",
     "output_type": "stream",
     "text": [
      "127.0.0.1 - - [06/Mar/2023 14:39:44] \"\u001b[35m\u001b[1mPOST /_dash-update-component HTTP/1.1\u001b[0m\" 500 -\n"
     ]
    },
    {
     "name": "stdout",
     "output_type": "stream",
     "text": [
      "All Countries Fertility rate, total (births per woman) Life expectancy at birth, total (years) Linear Linear [1982, 1992]\n",
      "     Country Name                                     Indicator Name  Year  \\\n",
      "Year                                                                         \n",
      "1982   Arab World                Agriculture, value added (% of GDP)  1982   \n",
      "1982   Arab World             CO2 emissions (metric tons per capita)  1982   \n",
      "1982   Arab World  Domestic credit provided by financial sector (...  1982   \n",
      "1982   Arab World        Electric power consumption (kWh per capita)  1982   \n",
      "1982   Arab World       Energy use (kg of oil equivalent per capita)  1982   \n",
      "\n",
      "           Value  \n",
      "Year              \n",
      "1982         NaN  \n",
      "1982    2.721731  \n",
      "1982    7.785458  \n",
      "1982  712.503979  \n",
      "1982  955.196030  \n"
     ]
    },
    {
     "name": "stderr",
     "output_type": "stream",
     "text": [
      "127.0.0.1 - - [06/Mar/2023 14:40:08] \"\u001b[35m\u001b[1mPOST /_dash-update-component HTTP/1.1\u001b[0m\" 500 -\n"
     ]
    },
    {
     "name": "stdout",
     "output_type": "stream",
     "text": [
      "[] Fertility rate, total (births per woman) Life expectancy at birth, total (years) Linear Linear [1982, 1992]\n",
      "Index(['Country Name', 'Indicator Name', 'Year', 'Value'], dtype='object')\n"
     ]
    },
    {
     "name": "stderr",
     "output_type": "stream",
     "text": [
      "127.0.0.1 - - [06/Mar/2023 14:40:10] \"POST /_dash-update-component HTTP/1.1\" 200 -\n"
     ]
    },
    {
     "name": "stdout",
     "output_type": "stream",
     "text": [
      "['Arab World'] Fertility rate, total (births per woman) Life expectancy at birth, total (years) Linear Linear [1982, 1992]\n",
      "Index(['Country Name', 'Indicator Name', 'Year', 'Value'], dtype='object')\n",
      "Else Executed\n"
     ]
    },
    {
     "name": "stderr",
     "output_type": "stream",
     "text": [
      "127.0.0.1 - - [06/Mar/2023 14:40:13] \"POST /_dash-update-component HTTP/1.1\" 200 -\n"
     ]
    },
    {
     "name": "stdout",
     "output_type": "stream",
     "text": [
      "['Arab World', 'Central Europe and the Baltics'] Fertility rate, total (births per woman) Life expectancy at birth, total (years) Linear Linear [1982, 1992]\n",
      "Index(['Country Name', 'Indicator Name', 'Year', 'Value'], dtype='object')\n",
      "Else Executed\n"
     ]
    },
    {
     "name": "stderr",
     "output_type": "stream",
     "text": [
      "127.0.0.1 - - [06/Mar/2023 14:40:21] \"\u001b[35m\u001b[1mPOST /_dash-update-component HTTP/1.1\u001b[0m\" 500 -\n"
     ]
    },
    {
     "name": "stdout",
     "output_type": "stream",
     "text": [
      "[] Fertility rate, total (births per woman) Life expectancy at birth, total (years) Linear Linear [1982, 1992]\n",
      "Index(['Country Name', 'Indicator Name', 'Year', 'Value'], dtype='object')\n"
     ]
    },
    {
     "name": "stderr",
     "output_type": "stream",
     "text": [
      "127.0.0.1 - - [06/Mar/2023 14:40:23] \"\u001b[35m\u001b[1mPOST /_dash-update-component HTTP/1.1\u001b[0m\" 500 -\n"
     ]
    },
    {
     "name": "stdout",
     "output_type": "stream",
     "text": [
      "['All Countries'] Fertility rate, total (births per woman) Life expectancy at birth, total (years) Linear Linear [1982, 1992]\n",
      "     Country Name                                     Indicator Name  Year  \\\n",
      "Year                                                                         \n",
      "1982   Arab World                Agriculture, value added (% of GDP)  1982   \n",
      "1982   Arab World             CO2 emissions (metric tons per capita)  1982   \n",
      "1982   Arab World  Domestic credit provided by financial sector (...  1982   \n",
      "1982   Arab World        Electric power consumption (kWh per capita)  1982   \n",
      "1982   Arab World       Energy use (kg of oil equivalent per capita)  1982   \n",
      "\n",
      "           Value  \n",
      "Year              \n",
      "1982         NaN  \n",
      "1982    2.721731  \n",
      "1982    7.785458  \n",
      "1982  712.503979  \n",
      "1982  955.196030  \n"
     ]
    },
    {
     "name": "stderr",
     "output_type": "stream",
     "text": [
      "127.0.0.1 - - [06/Mar/2023 14:40:31] \"\u001b[35m\u001b[1mPOST /_dash-update-component HTTP/1.1\u001b[0m\" 500 -\n"
     ]
    },
    {
     "name": "stdout",
     "output_type": "stream",
     "text": [
      "['All Countries'] CO2 emissions (metric tons per capita) Life expectancy at birth, total (years) Linear Linear [1982, 1992]\n",
      "     Country Name                                     Indicator Name  Year  \\\n",
      "Year                                                                         \n",
      "1982   Arab World                Agriculture, value added (% of GDP)  1982   \n",
      "1982   Arab World             CO2 emissions (metric tons per capita)  1982   \n",
      "1982   Arab World  Domestic credit provided by financial sector (...  1982   \n",
      "1982   Arab World        Electric power consumption (kWh per capita)  1982   \n",
      "1982   Arab World       Energy use (kg of oil equivalent per capita)  1982   \n",
      "\n",
      "           Value  \n",
      "Year              \n",
      "1982         NaN  \n",
      "1982    2.721731  \n",
      "1982    7.785458  \n",
      "1982  712.503979  \n",
      "1982  955.196030  \n"
     ]
    },
    {
     "name": "stderr",
     "output_type": "stream",
     "text": [
      "127.0.0.1 - - [06/Mar/2023 14:40:34] \"\u001b[35m\u001b[1mPOST /_dash-update-component HTTP/1.1\u001b[0m\" 500 -\n"
     ]
    },
    {
     "name": "stdout",
     "output_type": "stream",
     "text": [
      "['All Countries'] Domestic credit provided by financial sector (% of GDP) Life expectancy at birth, total (years) Linear Linear [1982, 1992]\n",
      "     Country Name                                     Indicator Name  Year  \\\n",
      "Year                                                                         \n",
      "1982   Arab World                Agriculture, value added (% of GDP)  1982   \n",
      "1982   Arab World             CO2 emissions (metric tons per capita)  1982   \n",
      "1982   Arab World  Domestic credit provided by financial sector (...  1982   \n",
      "1982   Arab World        Electric power consumption (kWh per capita)  1982   \n",
      "1982   Arab World       Energy use (kg of oil equivalent per capita)  1982   \n",
      "\n",
      "           Value  \n",
      "Year              \n",
      "1982         NaN  \n",
      "1982    2.721731  \n",
      "1982    7.785458  \n",
      "1982  712.503979  \n",
      "1982  955.196030  \n"
     ]
    },
    {
     "name": "stderr",
     "output_type": "stream",
     "text": [
      "127.0.0.1 - - [06/Mar/2023 14:40:37] \"\u001b[35m\u001b[1mPOST /_dash-update-component HTTP/1.1\u001b[0m\" 500 -\n"
     ]
    },
    {
     "name": "stdout",
     "output_type": "stream",
     "text": [
      "['All Countries'] Domestic credit provided by financial sector (% of GDP) Imports of goods and services (% of GDP) Linear Linear [1982, 1992]\n",
      "     Country Name                                     Indicator Name  Year  \\\n",
      "Year                                                                         \n",
      "1982   Arab World                Agriculture, value added (% of GDP)  1982   \n",
      "1982   Arab World             CO2 emissions (metric tons per capita)  1982   \n",
      "1982   Arab World  Domestic credit provided by financial sector (...  1982   \n",
      "1982   Arab World        Electric power consumption (kWh per capita)  1982   \n",
      "1982   Arab World       Energy use (kg of oil equivalent per capita)  1982   \n",
      "\n",
      "           Value  \n",
      "Year              \n",
      "1982         NaN  \n",
      "1982    2.721731  \n",
      "1982    7.785458  \n",
      "1982  712.503979  \n",
      "1982  955.196030  \n"
     ]
    },
    {
     "name": "stderr",
     "output_type": "stream",
     "text": [
      "127.0.0.1 - - [06/Mar/2023 14:40:40] \"\u001b[35m\u001b[1mPOST /_dash-update-component HTTP/1.1\u001b[0m\" 500 -\n"
     ]
    },
    {
     "name": "stdout",
     "output_type": "stream",
     "text": [
      "[] Domestic credit provided by financial sector (% of GDP) Imports of goods and services (% of GDP) Linear Linear [1982, 1992]\n",
      "Index(['Country Name', 'Indicator Name', 'Year', 'Value'], dtype='object')\n"
     ]
    },
    {
     "name": "stderr",
     "output_type": "stream",
     "text": [
      "127.0.0.1 - - [06/Mar/2023 14:40:43] \"\u001b[35m\u001b[1mPOST /_dash-update-component HTTP/1.1\u001b[0m\" 500 -\n"
     ]
    },
    {
     "name": "stdout",
     "output_type": "stream",
     "text": [
      "['All Countries'] Domestic credit provided by financial sector (% of GDP) Imports of goods and services (% of GDP) Linear Linear [1982, 1992]\n",
      "     Country Name                                     Indicator Name  Year  \\\n",
      "Year                                                                         \n",
      "1982   Arab World                Agriculture, value added (% of GDP)  1982   \n",
      "1982   Arab World             CO2 emissions (metric tons per capita)  1982   \n",
      "1982   Arab World  Domestic credit provided by financial sector (...  1982   \n",
      "1982   Arab World        Electric power consumption (kWh per capita)  1982   \n",
      "1982   Arab World       Energy use (kg of oil equivalent per capita)  1982   \n",
      "\n",
      "           Value  \n",
      "Year              \n",
      "1982         NaN  \n",
      "1982    2.721731  \n",
      "1982    7.785458  \n",
      "1982  712.503979  \n",
      "1982  955.196030  \n"
     ]
    }
   ],
   "source": [
    "app.run(debug=False, port='8896')"
   ]
  },
  {
   "cell_type": "code",
   "execution_count": null,
   "id": "ba31610b-ae18-421b-8bdd-c482f435b112",
   "metadata": {},
   "outputs": [],
   "source": []
  },
  {
   "cell_type": "code",
   "execution_count": null,
   "id": "48a26fe2-0466-4aba-b62a-ff195859842e",
   "metadata": {},
   "outputs": [],
   "source": []
  }
 ],
 "metadata": {
  "kernelspec": {
   "display_name": "Python 3 (ipykernel)",
   "language": "python",
   "name": "python3"
  },
  "language_info": {
   "codemirror_mode": {
    "name": "ipython",
    "version": 3
   },
   "file_extension": ".py",
   "mimetype": "text/x-python",
   "name": "python",
   "nbconvert_exporter": "python",
   "pygments_lexer": "ipython3",
   "version": "3.10.8"
  }
 },
 "nbformat": 4,
 "nbformat_minor": 5
}
