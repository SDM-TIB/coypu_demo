{
 "cells": [
  {
   "cell_type": "code",
   "execution_count": 1,
   "id": "8fc23273-81f2-452d-9a07-1af74d605709",
   "metadata": {},
   "outputs": [],
   "source": [
    "from dash import Dash, dcc, html, Input, Output\n",
    "import plotly.express as px\n",
    "from jupyter_dash import JupyterDash\n",
    "import numpy as np\n",
    "\n",
    "import pandas as pd\n",
    "\n",
    "app = JupyterDash(__name__)\n",
    "\n",
    "df = pd.read_csv('https://plotly.github.io/datasets/country_indicators.csv')\n",
    "\n",
    "app.layout = html.Div([\n",
    "    html.Div([\n",
    "        \n",
    "        html.Div([\n",
    "            dcc.Dropdown(\n",
    "                np.insert(df['Country Name'].unique(), 0, 'All Countries'),\n",
    "                'All Countries',\n",
    "                id='country-name',\n",
    "                multi=True,\n",
    "                searchable=True,\n",
    "            ),\n",
    "        ], style={'width': '30%', 'display': 'inline-block'}),\n",
    "\n",
    "        html.Div([\n",
    "            dcc.Dropdown(\n",
    "                df['Indicator Name'].unique(),\n",
    "                'Fertility rate, total (births per woman)',\n",
    "                id='xaxis-column'\n",
    "            ),\n",
    "            dcc.RadioItems(\n",
    "                ['Linear', 'Log'],\n",
    "                'Linear',\n",
    "                id='xaxis-type',\n",
    "                inline=True\n",
    "            )\n",
    "        ], style={'width': '30%', 'display': 'inline-block'}),\n",
    "        \n",
    "\n",
    "        html.Div([\n",
    "            dcc.Dropdown(\n",
    "                df['Indicator Name'].unique(),\n",
    "                'Life expectancy at birth, total (years)',\n",
    "                id='yaxis-column'\n",
    "            ),\n",
    "            dcc.RadioItems(\n",
    "                ['Linear', 'Log'],\n",
    "                'Linear',\n",
    "                id='yaxis-type',\n",
    "                inline=True\n",
    "            )\n",
    "        ], style={'width': '30%', 'display': 'inline-block'})\n",
    "    ]),\n",
    "\n",
    "    dcc.Graph(id='indicator-graphic'),\n",
    "    \n",
    "    dcc.RangeSlider(\n",
    "        min=df['Year'].min(), \n",
    "        max=df['Year'].max(), \n",
    "        step=5, \n",
    "        value=[df['Year'].min()+10, df['Year'].max()-10], \n",
    "        id='year-range-slider',\n",
    "        marks={str(year): str(year) for year in df['Year'].unique()},\n",
    "    )\n",
    "])\n",
    "\n",
    "\n",
    "@app.callback(\n",
    "    Output('indicator-graphic', 'figure'),\n",
    "    Input('country-name', 'value'),\n",
    "    Input('xaxis-column', 'value'),\n",
    "    Input('yaxis-column', 'value'),\n",
    "    Input('xaxis-type', 'value'),\n",
    "    Input('yaxis-type', 'value'),\n",
    "    Input('year-range-slider', 'value'))\n",
    "def update_graph(country_name, xaxis_column_name, yaxis_column_name,\n",
    "                 xaxis_type, yaxis_type, year_value):\n",
    "    \n",
    "    print (country_name, xaxis_column_name, yaxis_column_name,\n",
    "                 xaxis_type, yaxis_type, year_value)\n",
    "    \n",
    "    \n",
    "    if  'All Countries' in country_name :\n",
    "        dff = df[(df['Year'] >= year_value[0]) & (df['Year'] <= year_value[1])]\n",
    "        dff.set_index('Year', inplace=True, drop=False)\n",
    "\n",
    "        fig = px.scatter(x=dff[dff['Indicator Name'] == xaxis_column_name]['Value'],\n",
    "                         y=dff[dff['Indicator Name'] == yaxis_column_name]['Value'],\n",
    "                         hover_name=dff[dff['Indicator Name'] == yaxis_column_name]['Country Name']+'_'\\\n",
    "                         +dff[dff['Indicator Name'] == yaxis_column_name]['Year'].apply(str),\n",
    "                         #hover_data=dff[dff['Indicator Name'] == yaxis_column_name]['Year'],\n",
    "                         color=dff[dff['Indicator Name'] == yaxis_column_name]['Country Name']\n",
    "                        )\n",
    "        \n",
    "        print('If Executed')\n",
    "\n",
    "        fig.update_layout(margin={'l': 40, 'b': 40, 't': 10, 'r': 0}, hovermode='closest')\n",
    "\n",
    "        fig.update_xaxes(title=xaxis_column_name,\n",
    "                         type='linear' if xaxis_type == 'Linear' else 'log')\n",
    "\n",
    "        fig.update_yaxes(title=yaxis_column_name,\n",
    "                         type='linear' if yaxis_type == 'Linear' else 'log')\n",
    "    else:\n",
    "        dff = df[(df['Country Name'].isin(country_name)) &\\\n",
    "                 (df['Year'] >= year_value[0]) & (df['Year'] <= year_value[1])]\n",
    "        \n",
    "        dff.set_index('Year', inplace=True, drop=False)\n",
    "\n",
    "        \"\"\"fig = px.scatter(x=dff[dff['Indicator Name'] == xaxis_column_name]['Value'],\n",
    "                         y=dff[dff['Indicator Name'] == yaxis_column_name]['Value'],\n",
    "                         hover_name=dff[dff['Indicator Name'] == yaxis_column_name]['Year'])\"\"\"\n",
    "        \n",
    "        fig = px.line(x=dff[dff['Indicator Name'] == xaxis_column_name]['Value'],\\\n",
    "                y=dff[dff['Indicator Name'] == yaxis_column_name]['Value'],\\\n",
    "                text = dff[dff['Indicator Name'] == yaxis_column_name]['Year'],\\\n",
    "                color=dff[dff['Indicator Name'] == yaxis_column_name]['Country Name'])\n",
    "        \n",
    "        print('Else Executed')\n",
    "\n",
    "        fig.update_layout(margin={'l': 40, 'b': 40, 't': 10, 'r': 0}, hovermode='closest')\n",
    "\n",
    "        fig.update_xaxes(title=xaxis_column_name,\n",
    "                         type='linear' if xaxis_type == 'Linear' else 'log')\n",
    "\n",
    "        fig.update_yaxes(title=yaxis_column_name,\n",
    "                         type='linear' if yaxis_type == 'Linear' else 'log')\n",
    "        \n",
    "\n",
    "    return fig"
   ]
  },
  {
   "cell_type": "code",
   "execution_count": null,
   "id": "39c8f760-40cd-410d-bdce-9eab2e68d972",
   "metadata": {},
   "outputs": [
    {
     "name": "stdout",
     "output_type": "stream",
     "text": [
      " * Serving Flask app '__main__'\n",
      " * Debug mode: off\n"
     ]
    },
    {
     "name": "stderr",
     "output_type": "stream",
     "text": [
      "\u001b[31m\u001b[1mWARNING: This is a development server. Do not use it in a production deployment. Use a production WSGI server instead.\u001b[0m\n",
      " * Running on http://127.0.0.1:8896\n",
      "\u001b[33mPress CTRL+C to quit\u001b[0m\n",
      "127.0.0.1 - - [16/Jan/2023 15:29:07] \"GET / HTTP/1.1\" 200 -\n",
      "127.0.0.1 - - [16/Jan/2023 15:29:07] \"GET /_dash-component-suites/dash/deps/prop-types@15.v2_7_1m1673862253.8.1.min.js HTTP/1.1\" 200 -\n",
      "127.0.0.1 - - [16/Jan/2023 15:29:07] \"GET /_dash-component-suites/dash/deps/react@16.v2_7_1m1673862253.14.0.min.js HTTP/1.1\" 200 -\n",
      "127.0.0.1 - - [16/Jan/2023 15:29:07] \"GET /_dash-component-suites/dash/dcc/dash_core_components.v2_7_1m1673862253.js HTTP/1.1\" 200 -\n",
      "127.0.0.1 - - [16/Jan/2023 15:29:07] \"GET /_dash-component-suites/dash/deps/react-dom@16.v2_7_1m1673862253.14.0.min.js HTTP/1.1\" 200 -\n",
      "127.0.0.1 - - [16/Jan/2023 15:29:07] \"GET /_dash-component-suites/dash/dash-renderer/build/dash_renderer.v2_7_1m1673862253.min.js HTTP/1.1\" 200 -\n",
      "127.0.0.1 - - [16/Jan/2023 15:29:07] \"GET /_dash-component-suites/dash/deps/polyfill@7.v2_7_1m1673862253.12.1.min.js HTTP/1.1\" 200 -\n",
      "127.0.0.1 - - [16/Jan/2023 15:29:07] \"GET /_dash-component-suites/dash/dcc/dash_core_components-shared.v2_7_1m1673862253.js HTTP/1.1\" 200 -\n",
      "127.0.0.1 - - [16/Jan/2023 15:29:07] \"GET /_dash-component-suites/dash/dash_table/bundle.v5_2_1m1673862253.js HTTP/1.1\" 200 -\n",
      "127.0.0.1 - - [16/Jan/2023 15:29:07] \"GET /_dash-component-suites/dash/html/dash_html_components.v2_0_7m1673862253.min.js HTTP/1.1\" 200 -\n",
      "127.0.0.1 - - [16/Jan/2023 15:29:07] \"GET /_dash-layout HTTP/1.1\" 200 -\n",
      "127.0.0.1 - - [16/Jan/2023 15:29:07] \"GET /_dash-dependencies HTTP/1.1\" 200 -\n",
      "127.0.0.1 - - [16/Jan/2023 15:29:07] \"GET /_dash-component-suites/dash/dcc/async-dropdown.js HTTP/1.1\" 200 -\n",
      "127.0.0.1 - - [16/Jan/2023 15:29:07] \"GET /_dash-component-suites/dash/dcc/async-graph.js HTTP/1.1\" 200 -\n",
      "127.0.0.1 - - [16/Jan/2023 15:29:07] \"GET /_dash-component-suites/dash/dcc/async-slider.js HTTP/1.1\" 200 -\n",
      "127.0.0.1 - - [16/Jan/2023 15:29:07] \"GET /_dash-component-suites/dash/dcc/async-plotlyjs.js HTTP/1.1\" 200 -\n"
     ]
    },
    {
     "name": "stdout",
     "output_type": "stream",
     "text": [
      "All Countries Fertility rate, total (births per woman) Life expectancy at birth, total (years) Linear Linear [1972, 1997]\n"
     ]
    },
    {
     "name": "stderr",
     "output_type": "stream",
     "text": [
      "127.0.0.1 - - [16/Jan/2023 15:29:09] \"GET /_favicon.ico?v=2.7.1 HTTP/1.1\" 200 -\n",
      "127.0.0.1 - - [16/Jan/2023 15:29:10] \"POST /_dash-update-component HTTP/1.1\" 200 -\n"
     ]
    },
    {
     "name": "stdout",
     "output_type": "stream",
     "text": [
      "If Executed\n",
      "All Countries Electric power consumption (kWh per capita) Life expectancy at birth, total (years) Linear Linear [1972, 1997]\n"
     ]
    },
    {
     "name": "stderr",
     "output_type": "stream",
     "text": [
      "127.0.0.1 - - [16/Jan/2023 15:29:17] \"POST /_dash-update-component HTTP/1.1\" 200 -\n"
     ]
    },
    {
     "name": "stdout",
     "output_type": "stream",
     "text": [
      "If Executed\n",
      "All Countries Electric power consumption (kWh per capita) GDP growth (annual %) Linear Linear [1972, 1997]\n"
     ]
    },
    {
     "name": "stderr",
     "output_type": "stream",
     "text": [
      "127.0.0.1 - - [16/Jan/2023 15:29:21] \"POST /_dash-update-component HTTP/1.1\" 200 -\n"
     ]
    },
    {
     "name": "stdout",
     "output_type": "stream",
     "text": [
      "If Executed\n"
     ]
    },
    {
     "name": "stderr",
     "output_type": "stream",
     "text": [
      "127.0.0.1 - - [16/Jan/2023 15:29:32] \"\u001b[35m\u001b[1mPOST /_dash-update-component HTTP/1.1\u001b[0m\" 500 -\n"
     ]
    },
    {
     "name": "stdout",
     "output_type": "stream",
     "text": [
      "[] Electric power consumption (kWh per capita) GDP growth (annual %) Linear Linear [1972, 1997]\n"
     ]
    },
    {
     "name": "stderr",
     "output_type": "stream",
     "text": [
      "127.0.0.1 - - [16/Jan/2023 15:29:37] \"POST /_dash-update-component HTTP/1.1\" 200 -\n"
     ]
    },
    {
     "name": "stdout",
     "output_type": "stream",
     "text": [
      "['Germany'] Electric power consumption (kWh per capita) GDP growth (annual %) Linear Linear [1972, 1997]\n",
      "Else Executed\n"
     ]
    },
    {
     "name": "stderr",
     "output_type": "stream",
     "text": [
      "127.0.0.1 - - [16/Jan/2023 15:29:40] \"POST /_dash-update-component HTTP/1.1\" 200 -\n"
     ]
    },
    {
     "name": "stdout",
     "output_type": "stream",
     "text": [
      "['Germany', 'France'] Electric power consumption (kWh per capita) GDP growth (annual %) Linear Linear [1972, 1997]\n",
      "Else Executed\n",
      "['Germany'] Electric power consumption (kWh per capita) GDP growth (annual %) Linear Linear [1972, 1997]\n"
     ]
    },
    {
     "name": "stderr",
     "output_type": "stream",
     "text": [
      "127.0.0.1 - - [16/Jan/2023 15:40:48] \"POST /_dash-update-component HTTP/1.1\" 200 -\n"
     ]
    },
    {
     "name": "stdout",
     "output_type": "stream",
     "text": [
      "Else Executed\n"
     ]
    },
    {
     "name": "stderr",
     "output_type": "stream",
     "text": [
      "127.0.0.1 - - [16/Jan/2023 15:40:48] \"\u001b[35m\u001b[1mPOST /_dash-update-component HTTP/1.1\u001b[0m\" 500 -\n"
     ]
    },
    {
     "name": "stdout",
     "output_type": "stream",
     "text": [
      "[] Electric power consumption (kWh per capita) GDP growth (annual %) Linear Linear [1972, 1997]\n"
     ]
    },
    {
     "name": "stderr",
     "output_type": "stream",
     "text": [
      "127.0.0.1 - - [16/Jan/2023 15:40:53] \"POST /_dash-update-component HTTP/1.1\" 200 -\n"
     ]
    },
    {
     "name": "stdout",
     "output_type": "stream",
     "text": [
      "['Germany'] Electric power consumption (kWh per capita) GDP growth (annual %) Linear Linear [1972, 1997]\n",
      "Else Executed\n"
     ]
    },
    {
     "name": "stderr",
     "output_type": "stream",
     "text": [
      "127.0.0.1 - - [16/Jan/2023 15:40:56] \"POST /_dash-update-component HTTP/1.1\" 200 -\n"
     ]
    },
    {
     "name": "stdout",
     "output_type": "stream",
     "text": [
      "['Germany', 'France'] Electric power consumption (kWh per capita) GDP growth (annual %) Linear Linear [1972, 1997]\n",
      "Else Executed\n"
     ]
    },
    {
     "name": "stderr",
     "output_type": "stream",
     "text": [
      "127.0.0.1 - - [16/Jan/2023 15:40:59] \"POST /_dash-update-component HTTP/1.1\" 200 -\n"
     ]
    },
    {
     "name": "stdout",
     "output_type": "stream",
     "text": [
      "['Germany', 'France'] CO2 emissions (metric tons per capita) GDP growth (annual %) Linear Linear [1972, 1997]\n",
      "Else Executed\n"
     ]
    },
    {
     "name": "stderr",
     "output_type": "stream",
     "text": [
      "127.0.0.1 - - [16/Jan/2023 15:41:03] \"\u001b[35m\u001b[1mPOST /_dash-update-component HTTP/1.1\u001b[0m\" 500 -\n"
     ]
    },
    {
     "name": "stdout",
     "output_type": "stream",
     "text": [
      "[] CO2 emissions (metric tons per capita) GDP growth (annual %) Linear Linear [1972, 1997]\n",
      "['All Countries'] CO2 emissions (metric tons per capita) GDP growth (annual %) Linear Linear [1972, 1997]\n"
     ]
    },
    {
     "name": "stderr",
     "output_type": "stream",
     "text": [
      "127.0.0.1 - - [16/Jan/2023 15:41:08] \"POST /_dash-update-component HTTP/1.1\" 200 -\n"
     ]
    },
    {
     "name": "stdout",
     "output_type": "stream",
     "text": [
      "If Executed\n",
      "['All Countries'] CO2 emissions (metric tons per capita) GDP growth (annual %) Linear Linear [1972, 1992]\n"
     ]
    },
    {
     "name": "stderr",
     "output_type": "stream",
     "text": [
      "127.0.0.1 - - [16/Jan/2023 15:41:21] \"POST /_dash-update-component HTTP/1.1\" 200 -\n"
     ]
    },
    {
     "name": "stdout",
     "output_type": "stream",
     "text": [
      "If Executed\n"
     ]
    }
   ],
   "source": [
    "app.run(debug=False, port='8896')"
   ]
  },
  {
   "cell_type": "code",
   "execution_count": null,
   "id": "86141fa6-bb45-4988-b396-2b63840658a9",
   "metadata": {},
   "outputs": [],
   "source": [
    "import pandas as pd\n",
    "import numpy as np\n",
    "\n",
    "df = pd.read_csv('https://plotly.github.io/datasets/country_indicators.csv')\n",
    "#df[(df['Country Name'] == 'Germany') & (df['Year'] <= 1992)]"
   ]
  },
  {
   "cell_type": "code",
   "execution_count": null,
   "id": "1cc26f8f-d890-412f-9233-eec829c2f607",
   "metadata": {},
   "outputs": [],
   "source": [
    "df[df['Indicator Name']=='Fertility rate, total (births per woman)']['Country Name']+df[df['Indicator Name']=='Fertility rate, total (births per woman)']['Year']."
   ]
  },
  {
   "cell_type": "code",
   "execution_count": null,
   "id": "ba31610b-ae18-421b-8bdd-c482f435b112",
   "metadata": {},
   "outputs": [],
   "source": []
  },
  {
   "cell_type": "code",
   "execution_count": null,
   "id": "48a26fe2-0466-4aba-b62a-ff195859842e",
   "metadata": {},
   "outputs": [],
   "source": []
  }
 ],
 "metadata": {
  "kernelspec": {
   "display_name": "Python 3 (ipykernel)",
   "language": "python",
   "name": "python3"
  },
  "language_info": {
   "codemirror_mode": {
    "name": "ipython",
    "version": 3
   },
   "file_extension": ".py",
   "mimetype": "text/x-python",
   "name": "python",
   "nbconvert_exporter": "python",
   "pygments_lexer": "ipython3",
   "version": "3.10.8"
  }
 },
 "nbformat": 4,
 "nbformat_minor": 5
}
