{
 "cells": [
  {
   "cell_type": "code",
   "execution_count": null,
   "id": "5bad87e5-9492-4736-b543-9e18080be297",
   "metadata": {},
   "outputs": [],
   "source": [
    "# Third party packages\n",
    "import pandas as pd\n",
    "import plotly.express as px\n",
    "import plotly.io as pio\n",
    "pio.renderers.default = \"browser\"\n",
    "import matplotlib.pyplot as plt\n",
    "from io import StringIO\n",
    "from IPython.display import display\n",
    "\n",
    "# Adding path\n",
    "from os.path import abspath\n",
    "import sys\n",
    "sys.path.insert(0, abspath('..'))\n",
    "\n",
    "# \n",
    "from query_request import *\n",
    "from query_def import *\n",
    "from credentials import *\n",
    "from functions import *\n",
    "# from sqlalchemy import create_engine\n",
    "\n",
    "# pandas display settings\n",
    "pd.options.display.max_rows = 999\n",
    "pd.options.display.max_columns = 999\n",
    "pd.options.display.max_colwidth=None"
   ]
  },
  {
   "cell_type": "markdown",
   "id": "2662577c-cc94-4d74-a5ad-d4fa8c488804",
   "metadata": {},
   "source": [
    "# [Leibniz Data Manager](https://dm.coypu.org/)\n",
    "**Please check how to use [APIs](https://dm.coypu.org/dataset/ldm-api-reference/resource/24e21e3e-266f-41b3-acd8-0671fac749e6).**"
   ]
  },
  {
   "cell_type": "markdown",
   "id": "4cebbfbb-c158-48bc-ba95-0b1c9d3c2bca",
   "metadata": {},
   "source": [
    "## [Create Dataset](https://rdrr.io/cran/ckanr/man/package_create.html)"
   ]
  },
  {
   "cell_type": "code",
   "execution_count": null,
   "id": "69687faa-99d8-40b2-813a-bd9ce87d0739",
   "metadata": {},
   "outputs": [],
   "source": [
    "# import requests\n",
    "import requests\n",
    "from os.path import abspath\n",
    "import sys\n",
    "\n",
    "sys.path.insert(0, abspath('..'))\n",
    "from functions import *\n",
    "from credentials import *\n",
    "\n",
    "API_Base_URL = \"https://dm.coypu.org/api/3/action/\"\n",
    "\n",
    "dataset_dict = {\n",
    "            \"name\": \"country_codes\", # Must be purely lowercase alphanumeric (ascii) characters and these symbols: -_'\n",
    "            \"title\": \"Country Codes\",\n",
    "            \"private\": False,\n",
    "            \"author\": \"Akhilesh Vyas\",\n",
    "            \"license_id\": None,\n",
    "            \"package_url\": None,\n",
    "            \"version\": 0.1,\n",
    "            \"author_email\": \"akhilesh.vyas@tib.eu\",\n",
    "            \"notes\": \"It represents different names, ids, and codes for the countries.\",\n",
    "            \"owner_org\": \"coypu\"}\n",
    "\n",
    "# Execute this cell if you have API_USER_TOKEN\n",
    "create_dataset(dataset_dict, API_Base_URL, ldm_user_token)"
   ]
  },
  {
   "cell_type": "markdown",
   "id": "25aff44a-28c2-496b-b818-d8d6c2201e9e",
   "metadata": {},
   "source": [
    "## Get Dataset"
   ]
  },
  {
   "cell_type": "code",
   "execution_count": null,
   "id": "31ced894-ffde-4d7a-af04-73ad18b35577",
   "metadata": {},
   "outputs": [],
   "source": [
    "# get dataset info \n",
    "get_public_data_info('country', API_Base_URL)"
   ]
  },
  {
   "cell_type": "markdown",
   "id": "42228eed-8f91-4119-a51c-87ba085073ec",
   "metadata": {},
   "source": [
    "# [Dragoman](https://github.com/SDM-TIB/Dragoman)\n",
    "**An interpreter of functional mapping rules (defined in `RDF Mapping Language (RML)`) that interprets and transform the files into function-free mappings. These function mappings can be adopted by any RML-compliant Knowlege Graph creation engine (e.g. [SDM-RDFizer](https://github.com/SDM-TIB/SDM-RDFizer)).**\n",
    "\n",
    "Step to follow for using Dragoman:\n",
    "* [Install and Run Dragoman](https://github.com/SDM-TIB/Dragoman)\n",
    "* Create functional [Mapping](https://fno.io/spec/) (e.g. [Local-Country](../../mappings/country/country_codes_func.ttl) mapping file)  and [Config](../../configs/config_func.ini)) (e.g [Local-Config](../../configs/config_func.ini) file) files\n",
    "* Run [Dragoman](https://github.com/SDM-TIB/Dragoman) to convert functional mappings into function free mappings\n",
    "* Run [SDM-Rdfizer](##SDM-RDFizer) to convert data into RDF Knowledge Graph using function-free mappings"
   ]
  },
  {
   "cell_type": "markdown",
   "id": "d1ea6982-b1cc-4f51-9780-9eff9a7197e8",
   "metadata": {
    "tags": []
   },
   "source": [
    "# [SDM-RDFizer](https://github.com/SDM-TIB/SDM-RDFizer)\n",
    "**An interpreter of mapping rules (defined in `RDF Mapping Language (RML)` ) that allows the transformation of (un)structured data into RDF knowledge graphs. It provides efficient RML triple map execution for Big data. SDM-RDFizer supports (`CSV, JSON, RDB, XML`).**\n",
    "\n",
    "Step to create `Knowledge Graph` using SDM-Rdfizer:\n",
    "* [Install and Run SDM-Rdfizer](https://github.com/SDM-TIB/SDM-RDFizer/wiki/Install&Run)\n",
    "* Create [Mapping](https://rml.io/specs/rml/) (e.g. [Local-ICEWS](../../mappings/icews/icews.ttl) mapping file)  and [Config](https://github.com/SDM-TIB/SDM-RDFizer/wiki/The-Parameters-of-the-Configuration-file) (e.g [Local-Config](../../configs/config.ini) file) files\n",
    "* Sematify data using `rdfizer.semantify`"
   ]
  },
  {
   "cell_type": "code",
   "execution_count": null,
   "id": "369d56c8-c51c-4884-8c04-b55457c84b17",
   "metadata": {},
   "outputs": [],
   "source": [
    "%%time\n",
    "# Creating RDF data using config file\n",
    "from rdfizer.semantify import semantify\n",
    "semantify('../configs/config.ini')"
   ]
  },
  {
   "cell_type": "markdown",
   "id": "2a24cf90-8a44-4bc7-82a9-074732669b90",
   "metadata": {},
   "source": [
    "## [Uploading RDF DATA](../configs/docker_command_icews.sh)\n",
    "\n",
    "**Steps**\n",
    "- Load data to remote server\n",
    "- [Run Docker](../configs/docker_command_icews.sh) to create endpoint (if you have permission)"
   ]
  },
  {
   "cell_type": "raw",
   "id": "d3c8cc42-7a55-487b-8732-d57af10d7d01",
   "metadata": {},
   "source": [
    "# load data \n",
    "! rsync -avP ../kgdata/data/icews/icews.nt node2:/data/coypu/icews_endpoint/data_load\n",
    "# run docker\n",
    "! ../configs/docker_command_icews.sh"
   ]
  },
  {
   "cell_type": "code",
   "execution_count": null,
   "id": "ed150af6-27d6-4070-832e-753231748442",
   "metadata": {},
   "outputs": [],
   "source": []
  }
 ],
 "metadata": {
  "kernelspec": {
   "display_name": "Python 3 (ipykernel)",
   "language": "python",
   "name": "python3"
  },
  "language_info": {
   "codemirror_mode": {
    "name": "ipython",
    "version": 3
   },
   "file_extension": ".py",
   "mimetype": "text/x-python",
   "name": "python",
   "nbconvert_exporter": "python",
   "pygments_lexer": "ipython3",
   "version": "3.10.8"
  }
 },
 "nbformat": 4,
 "nbformat_minor": 5
}
