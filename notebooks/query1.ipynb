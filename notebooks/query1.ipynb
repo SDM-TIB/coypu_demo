{
 "cells": [
  {
   "cell_type": "code",
   "execution_count": null,
   "id": "75394514-8b89-4c8c-987c-3207f9c03d17",
   "metadata": {},
   "outputs": [],
   "source": [
    "# Third party packages\n",
    "import pandas as pd\n",
    "import plotly.express as px\n",
    "import plotly.io as pio\n",
    "pio.renderers.default = \"browser\"\n",
    "import matplotlib.pyplot as plt\n",
    "from io import StringIO\n",
    "from IPython.display import display\n",
    "\n",
    "# Adding path\n",
    "from os.path import abspath\n",
    "import sys\n",
    "sys.path.insert(0, abspath('..'))\n",
    "\n",
    "# \n",
    "from query_request import *\n",
    "from query_def import *\n",
    "import credentials\n",
    "# from sqlalchemy import create_engine\n",
    "\n",
    "# pandas display settings\n",
    "pd.options.display.max_rows = 999\n",
    "pd.options.display.max_columns = 999\n",
    "pd.options.display.max_colwidth=None\n"
   ]
  },
  {
   "cell_type": "markdown",
   "id": "48f302f4-d0a8-4255-b7af-d5127647dd91",
   "metadata": {},
   "source": [
    "# [Federated Query Engine (DeTrusty)](https://github.com/SDM-TIB/DeTrusty)\n",
    "**A federated query engine**\n",
    "\n",
    "Step to run Detruty against the federation of `Knowledge Graphs`: \n",
    "* [Install and Run](https://github.com/SDM-TIB/DeTrusty)\n",
    "* Create [Endpoints](../../configs/endpoints_sample.json) file and [RDF Molecule Template](../../configs/rdfmts_public.json)\n",
    "* Run query using `Detrusty.run_query`"
   ]
  },
  {
   "cell_type": "code",
   "execution_count": null,
   "id": "2ae35b81-d235-44c2-8160-6ba7faaf11ec",
   "metadata": {},
   "outputs": [],
   "source": [
    "# create rdfmts\n",
    "from DeTrusty import run_query\n",
    "from DeTrusty.Molecule.MTCreation import create_rdfmts\n",
    "from DeTrusty.Molecule.MTManager import ConfigFile\n",
    "\n",
    "# Creating endpoints dictionary\n",
    "endpoints = dictfrmjson('../configs/endpoints_sample.json')\n",
    "print(endpoints)\n",
    "\n",
    "# Creating RDF molecule template (rdfmts) from endpoints\n",
    "# log_rdfmts = create_rdfmts(endpoints, '../configs/rdfmts.json')\n",
    "\n",
    "# if already rdfmts has been created \n",
    "config_private = ConfigFile('../configs/rdfmts_private.json')\n",
    "config_public = ConfigFile('../configs/rdfmts_public.json')"
   ]
  },
  {
   "cell_type": "markdown",
   "id": "b2561813-85b1-4d4f-992a-f16d4b37fb7c",
   "metadata": {},
   "source": [
    "## Endpoints Status"
   ]
  },
  {
   "cell_type": "code",
   "execution_count": null,
   "id": "c87047ac-b265-460a-a20d-2b917e3fa4fd",
   "metadata": {},
   "outputs": [],
   "source": [
    "# Demo query to all available enpoints\n",
    "\n",
    "# demo query\n",
    "query_test = \"\"\"SELECT * WHERE{ ?Subject a ?Concept }LIMIT 1000\"\"\"\n",
    "\n",
    "\n",
    "# creating request for cmemc\n",
    "display(\"############### Cmemc Endpoint ###############\")\n",
    "cmemc_request = SPARQLRequest(client_url_imp, client_id_imp, client_secret_imp , 'oauth')\n",
    "# executing query and printing response\n",
    "cmemc_request.execute(query_test)\n",
    "buf = StringIO(cmemc_request.response.content.decode('utf-8'), newline='\\r\\n')          \n",
    "display(pd.read_csv(buf, encoding='utf-8').tail(5))\n",
    "\n",
    "# creating request for skynet\n",
    "display(\"############### Skynet Endpoint ###############\")\n",
    "skynet_request = SPARQLRequest(skynet_endpoint, skynet_user, skynet_pass, 'basic')\n",
    "# executing query and printing response\n",
    "skynet_request.execute(query_test)\n",
    "buf = StringIO(skynet_request.response.content.decode('utf-8'), newline='\\r\\n')          \n",
    "display(pd.read_csv(buf, encoding='utf-8').tail(5))\n",
    "\n",
    "# creating request for worldbank\n",
    "display(\"############### Worldbank Endpoint ###############\")\n",
    "worldbank_request = SPARQLRequest(worldbank_endpoint)\n",
    "# executing query and printing response\n",
    "worldbank_request.execute(query_test)\n",
    "display(worldbank_request.response.status_code)\n",
    "buf = StringIO(worldbank_request.response.content.decode('utf-8'), newline='\\r\\n')          \n",
    "display(pd.read_csv(buf, encoding='utf-8').tail(5))\n",
    "\n",
    "# creating request for LEI\n",
    "display(\"############### LEI Endpoint ###############\")\n",
    "lei_request = SPARQLRequest(lei_endpoint)\n",
    "# executing query and printing response\n",
    "lei_request.execute(query_test)\n",
    "buf = StringIO(lei_request.response.content.decode('utf-8'), newline='\\r\\n')          \n",
    "display(pd.read_csv(buf, encoding='utf-8').tail(5))\n",
    "\n",
    "# creating request for ICEWS\n",
    "display(\"############### ICEWS Endpoint ###############\")\n",
    "icews_request = SPARQLRequest(icews_endpoint)\n",
    "# executing query and printing response\n",
    "icews_request.execute(query_test)\n",
    "buf = StringIO(icews_request.response.content.decode('utf-8'), newline='\\r\\n')          \n",
    "display(pd.read_csv(buf, encoding='utf-8').tail(5))\n"
   ]
  },
  {
   "cell_type": "markdown",
   "id": "3b610e0f-a2e6-43dc-a755-ec47c352c4c1",
   "metadata": {},
   "source": [
    "## Federated Query"
   ]
  },
  {
   "cell_type": "code",
   "execution_count": null,
   "id": "849bcb53-a494-41a0-847b-7e2d58015579",
   "metadata": {},
   "outputs": [],
   "source": [
    "# creating request for Federated Query\n",
    "display(\"############### Federated Query ###############\")\n",
    "fdq_request = SPARQLRequest(is_fdq=True)\n",
    "fdq_request.execute(query_test, config_public, False)\n",
    "fdq_request.save('../query_results/', 'query_test')"
   ]
  },
  {
   "cell_type": "code",
   "execution_count": null,
   "id": "9e47c410-b348-4c1e-90cf-2abcd0aeef98",
   "metadata": {},
   "outputs": [],
   "source": [
    "print(query_1_fdq_ex_1)\n",
    "\n",
    "fdq_request.execute(query_1_fdq_ex_1, config_private, False)\n",
    "fdq_request.save('../query_results/', 'query_1_fdq_ex_1')"
   ]
  },
  {
   "cell_type": "markdown",
   "id": "b557c4cd-268e-41a3-b89b-f2b5558a291d",
   "metadata": {},
   "source": [
    "## Visualization"
   ]
  },
  {
   "cell_type": "code",
   "execution_count": null,
   "id": "ab400c3f-c92b-4b6e-b051-ef5530f75ddc",
   "metadata": {},
   "outputs": [],
   "source": [
    "def carbon_emission_group(carbon_emission):\n",
    "    if carbon_emission/1000000 < 0.25:\n",
    "        return '0.00-0.25'\n",
    "    elif carbon_emission/1000000 >= 0.25 and carbon_emission/1000000 < 0.5:\n",
    "        return '0.25-0.5'\n",
    "    elif carbon_emission/1000000 >= 0.5 and carbon_emission/1000000 < 0.75:\n",
    "        return '0.50-0.75'\n",
    "    else:\n",
    "        return '> 0.75'\n",
    "    \n",
    "\n",
    "df = pd.read_csv('../query_results/query_1_fdq_ex_1.csv', encoding='utf-8')\n",
    "df.rename(columns=lambda x: x.replace('.value', ''), inplace=True)\n",
    "df['carbon_emission(1e6)'] = df['carbon_emission'].apply(carbon_emission_group)\n",
    "df.sort_values(by='year', ascending=True, inplace=True)\n",
    "\n",
    "df.head(10)"
   ]
  },
  {
   "cell_type": "code",
   "execution_count": null,
   "id": "815e669d-34f1-4637-ab70-427021f4e240",
   "metadata": {},
   "outputs": [],
   "source": [
    "\n",
    "fig = px.scatter_geo(df, locations=\"country_code\", color=\"carbon_emission(1e6)\",\n",
    "                     hover_data=['carbon_emission'], size=\"no_of_disasters\",\n",
    "                     animation_frame=\"year\",\n",
    "                     projection=\"equirectangular\", scope='europe')\n",
    "fig.update_layout(title_text='Carbon emission and the number of disaster events for various countries across years',\\\n",
    "                  title_font_color=\"red\", title_font_family=\"Times New Roman\", title_font_size=25)\n",
    "fig.write_html('../query_results/query_1_fdq_ex_1.html')\n",
    "fig.show()"
   ]
  }
 ],
 "metadata": {
  "kernelspec": {
   "display_name": "Python 3 (ipykernel)",
   "language": "python",
   "name": "python3"
  },
  "language_info": {
   "codemirror_mode": {
    "name": "ipython",
    "version": 3
   },
   "file_extension": ".py",
   "mimetype": "text/x-python",
   "name": "python",
   "nbconvert_exporter": "python",
   "pygments_lexer": "ipython3",
   "version": "3.10.8"
  },
  "toc-autonumbering": true,
  "toc-showcode": true,
  "toc-showmarkdowntxt": true,
  "vscode": {
   "interpreter": {
    "hash": "128160bff7784810a71e3e75e798d235a04fa46b896c5052f88a83f31670d3ef"
   }
  }
 },
 "nbformat": 4,
 "nbformat_minor": 5
}
