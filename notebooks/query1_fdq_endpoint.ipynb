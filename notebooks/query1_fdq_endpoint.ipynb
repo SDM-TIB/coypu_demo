{
 "cells": [
  {
   "cell_type": "code",
   "execution_count": 1,
   "id": "75394514-8b89-4c8c-987c-3207f9c03d17",
   "metadata": {},
   "outputs": [
    {
     "name": "stdout",
     "output_type": "stream",
     "text": [
      "\n"
     ]
    }
   ],
   "source": [
    "# Third party packages\n",
    "import pandas as pd\n",
    "import plotly.express as px\n",
    "import plotly.io as pio\n",
    "pio.renderers.default = \"browser\"\n",
    "import matplotlib.pyplot as plt\n",
    "from io import StringIO\n",
    "from IPython.display import display\n",
    "\n",
    "# Adding path\n",
    "from os.path import abspath\n",
    "import sys\n",
    "sys.path.insert(0, abspath('..'))\n",
    "\n",
    "# \n",
    "from query_request import *\n",
    "from query_def import *\n",
    "import credentials\n",
    "# from sqlalchemy import create_engine\n",
    "\n",
    "# pandas display settings\n",
    "pd.options.display.max_rows = 999\n",
    "pd.options.display.max_columns = 999\n",
    "pd.options.display.max_colwidth=None\n"
   ]
  },
  {
   "cell_type": "markdown",
   "id": "b2561813-85b1-4d4f-992a-f16d4b37fb7c",
   "metadata": {},
   "source": [
    "## Endpoints Status"
   ]
  },
  {
   "cell_type": "code",
   "execution_count": 4,
   "id": "c87047ac-b265-460a-a20d-2b917e3fa4fd",
   "metadata": {},
   "outputs": [
    {
     "data": {
      "text/plain": [
       "'############### Cmemc Endpoint ###############'"
      ]
     },
     "metadata": {},
     "output_type": "display_data"
    },
    {
     "name": "stdout",
     "output_type": "stream",
     "text": [
      "Non-FDQ\n",
      "auth_type\n",
      "Passed Query Status: 200\n",
      "Total time taken by execute function: 0.3098475933074951\n"
     ]
    },
    {
     "data": {
      "text/html": [
       "<div>\n",
       "<style scoped>\n",
       "    .dataframe tbody tr th:only-of-type {\n",
       "        vertical-align: middle;\n",
       "    }\n",
       "\n",
       "    .dataframe tbody tr th {\n",
       "        vertical-align: top;\n",
       "    }\n",
       "\n",
       "    .dataframe thead th {\n",
       "        text-align: right;\n",
       "    }\n",
       "</style>\n",
       "<table border=\"1\" class=\"dataframe\">\n",
       "  <thead>\n",
       "    <tr style=\"text-align: right;\">\n",
       "      <th></th>\n",
       "      <th>Subject</th>\n",
       "      <th>Concept</th>\n",
       "    </tr>\n",
       "  </thead>\n",
       "  <tbody>\n",
       "    <tr>\n",
       "      <th>995</th>\n",
       "      <td>https://vocab.eccenca.com/shacl/GraphTemplateJinjaTemplatePropertyShape</td>\n",
       "      <td>http://www.w3.org/2000/01/rdf-schema#Resource</td>\n",
       "    </tr>\n",
       "    <tr>\n",
       "      <th>996</th>\n",
       "      <td>https://vocab.eccenca.com/shacl/GraphTemplateJinjaTemplatePropertyShape</td>\n",
       "      <td>http://www.w3.org/ns/shacl#PropertyShape</td>\n",
       "    </tr>\n",
       "    <tr>\n",
       "      <th>997</th>\n",
       "      <td>https://vocab.eccenca.com/shui/jinjaTemplateString</td>\n",
       "      <td>http://www.w3.org/1999/02/22-rdf-syntax-ns#Property</td>\n",
       "    </tr>\n",
       "    <tr>\n",
       "      <th>998</th>\n",
       "      <td>https://vocab.eccenca.com/shui/jinjaTemplateString</td>\n",
       "      <td>http://www.w3.org/2000/01/rdf-schema#Resource</td>\n",
       "    </tr>\n",
       "    <tr>\n",
       "      <th>999</th>\n",
       "      <td>https://vocab.eccenca.com/shui/jinjaTemplateString</td>\n",
       "      <td>http://www.w3.org/2002/07/owl#DatatypeProperty</td>\n",
       "    </tr>\n",
       "  </tbody>\n",
       "</table>\n",
       "</div>"
      ],
      "text/plain": [
       "                                                                     Subject  \\\n",
       "995  https://vocab.eccenca.com/shacl/GraphTemplateJinjaTemplatePropertyShape   \n",
       "996  https://vocab.eccenca.com/shacl/GraphTemplateJinjaTemplatePropertyShape   \n",
       "997                       https://vocab.eccenca.com/shui/jinjaTemplateString   \n",
       "998                       https://vocab.eccenca.com/shui/jinjaTemplateString   \n",
       "999                       https://vocab.eccenca.com/shui/jinjaTemplateString   \n",
       "\n",
       "                                                 Concept  \n",
       "995        http://www.w3.org/2000/01/rdf-schema#Resource  \n",
       "996             http://www.w3.org/ns/shacl#PropertyShape  \n",
       "997  http://www.w3.org/1999/02/22-rdf-syntax-ns#Property  \n",
       "998        http://www.w3.org/2000/01/rdf-schema#Resource  \n",
       "999       http://www.w3.org/2002/07/owl#DatatypeProperty  "
      ]
     },
     "metadata": {},
     "output_type": "display_data"
    },
    {
     "data": {
      "text/plain": [
       "'############### Skynet Endpoint ###############'"
      ]
     },
     "metadata": {},
     "output_type": "display_data"
    },
    {
     "name": "stdout",
     "output_type": "stream",
     "text": [
      "Non-FDQ\n",
      "auth_type\n",
      "Passed Query Status: 200\n",
      "Total time taken by execute function: 0.08339476585388184\n"
     ]
    },
    {
     "data": {
      "text/html": [
       "<div>\n",
       "<style scoped>\n",
       "    .dataframe tbody tr th:only-of-type {\n",
       "        vertical-align: middle;\n",
       "    }\n",
       "\n",
       "    .dataframe tbody tr th {\n",
       "        vertical-align: top;\n",
       "    }\n",
       "\n",
       "    .dataframe thead th {\n",
       "        text-align: right;\n",
       "    }\n",
       "</style>\n",
       "<table border=\"1\" class=\"dataframe\">\n",
       "  <thead>\n",
       "    <tr style=\"text-align: right;\">\n",
       "      <th></th>\n",
       "      <th>Subject</th>\n",
       "      <th>Concept</th>\n",
       "    </tr>\n",
       "  </thead>\n",
       "  <tbody>\n",
       "    <tr>\n",
       "      <th>995</th>\n",
       "      <td>https://data.coypu.org/industry/exiobase/regional/Mining_of_lead_zinc_and_tin_ores_and_concentrates_WF</td>\n",
       "      <td>https://schema.coypu.org/global#RegionalIndustry</td>\n",
       "    </tr>\n",
       "    <tr>\n",
       "      <th>996</th>\n",
       "      <td>https://data.coypu.org/industry/exiobase/regional/Cultivation_of_oil_seeds_CY</td>\n",
       "      <td>https://schema.coypu.org/global#RegionalIndustry</td>\n",
       "    </tr>\n",
       "    <tr>\n",
       "      <th>997</th>\n",
       "      <td>https://data.coypu.org/industry/exiobase/regional/Processing_of_Food_products_nec_BG</td>\n",
       "      <td>https://schema.coypu.org/global#RegionalIndustry</td>\n",
       "    </tr>\n",
       "    <tr>\n",
       "      <th>998</th>\n",
       "      <td>https://data.coypu.org/industry/exiobase/regional/Extraction_of_natural_gas_and_services_related_to_natural_gas_extraction_excluding_surveying_LU</td>\n",
       "      <td>https://schema.coypu.org/global#RegionalIndustry</td>\n",
       "    </tr>\n",
       "    <tr>\n",
       "      <th>999</th>\n",
       "      <td>https://data.coypu.org/industry/exiobase/regional/Cultivation_of_cereal_grains_nec_LV</td>\n",
       "      <td>https://schema.coypu.org/global#RegionalIndustry</td>\n",
       "    </tr>\n",
       "  </tbody>\n",
       "</table>\n",
       "</div>"
      ],
      "text/plain": [
       "                                                                                                                                               Subject  \\\n",
       "995                                             https://data.coypu.org/industry/exiobase/regional/Mining_of_lead_zinc_and_tin_ores_and_concentrates_WF   \n",
       "996                                                                      https://data.coypu.org/industry/exiobase/regional/Cultivation_of_oil_seeds_CY   \n",
       "997                                                               https://data.coypu.org/industry/exiobase/regional/Processing_of_Food_products_nec_BG   \n",
       "998  https://data.coypu.org/industry/exiobase/regional/Extraction_of_natural_gas_and_services_related_to_natural_gas_extraction_excluding_surveying_LU   \n",
       "999                                                              https://data.coypu.org/industry/exiobase/regional/Cultivation_of_cereal_grains_nec_LV   \n",
       "\n",
       "                                              Concept  \n",
       "995  https://schema.coypu.org/global#RegionalIndustry  \n",
       "996  https://schema.coypu.org/global#RegionalIndustry  \n",
       "997  https://schema.coypu.org/global#RegionalIndustry  \n",
       "998  https://schema.coypu.org/global#RegionalIndustry  \n",
       "999  https://schema.coypu.org/global#RegionalIndustry  "
      ]
     },
     "metadata": {},
     "output_type": "display_data"
    },
    {
     "data": {
      "text/plain": [
       "'############### Worldbank Endpoint ###############'"
      ]
     },
     "metadata": {},
     "output_type": "display_data"
    },
    {
     "name": "stdout",
     "output_type": "stream",
     "text": [
      "Non-FDQ\n",
      "Passed Query Status: 200\n",
      "Total time taken by execute function: 0.10515761375427246\n"
     ]
    },
    {
     "data": {
      "text/plain": [
       "200"
      ]
     },
     "metadata": {},
     "output_type": "display_data"
    },
    {
     "data": {
      "text/html": [
       "<div>\n",
       "<style scoped>\n",
       "    .dataframe tbody tr th:only-of-type {\n",
       "        vertical-align: middle;\n",
       "    }\n",
       "\n",
       "    .dataframe tbody tr th {\n",
       "        vertical-align: top;\n",
       "    }\n",
       "\n",
       "    .dataframe thead th {\n",
       "        text-align: right;\n",
       "    }\n",
       "</style>\n",
       "<table border=\"1\" class=\"dataframe\">\n",
       "  <thead>\n",
       "    <tr style=\"text-align: right;\">\n",
       "      <th></th>\n",
       "      <th>Subject</th>\n",
       "      <th>Concept</th>\n",
       "    </tr>\n",
       "  </thead>\n",
       "  <tbody>\n",
       "    <tr>\n",
       "      <th>995</th>\n",
       "      <td>http://worldbank.org/Indicator/IC.FRM.BKWC.ZS</td>\n",
       "      <td>http://worldbank.org/Indicator</td>\n",
       "    </tr>\n",
       "    <tr>\n",
       "      <th>996</th>\n",
       "      <td>http://worldbank.org/Indicator/IC.FRM.BNKS.ZS</td>\n",
       "      <td>http://worldbank.org/Indicator</td>\n",
       "    </tr>\n",
       "    <tr>\n",
       "      <th>997</th>\n",
       "      <td>http://worldbank.org/Indicator/IC.FRM.BRIB.ZS</td>\n",
       "      <td>http://worldbank.org/Indicator</td>\n",
       "    </tr>\n",
       "    <tr>\n",
       "      <th>998</th>\n",
       "      <td>http://worldbank.org/Indicator/IC.FRM.CMPU.ZS</td>\n",
       "      <td>http://worldbank.org/Indicator</td>\n",
       "    </tr>\n",
       "    <tr>\n",
       "      <th>999</th>\n",
       "      <td>http://worldbank.org/Indicator/IC.FRM.CORR.ZS</td>\n",
       "      <td>http://worldbank.org/Indicator</td>\n",
       "    </tr>\n",
       "  </tbody>\n",
       "</table>\n",
       "</div>"
      ],
      "text/plain": [
       "                                           Subject  \\\n",
       "995  http://worldbank.org/Indicator/IC.FRM.BKWC.ZS   \n",
       "996  http://worldbank.org/Indicator/IC.FRM.BNKS.ZS   \n",
       "997  http://worldbank.org/Indicator/IC.FRM.BRIB.ZS   \n",
       "998  http://worldbank.org/Indicator/IC.FRM.CMPU.ZS   \n",
       "999  http://worldbank.org/Indicator/IC.FRM.CORR.ZS   \n",
       "\n",
       "                            Concept  \n",
       "995  http://worldbank.org/Indicator  \n",
       "996  http://worldbank.org/Indicator  \n",
       "997  http://worldbank.org/Indicator  \n",
       "998  http://worldbank.org/Indicator  \n",
       "999  http://worldbank.org/Indicator  "
      ]
     },
     "metadata": {},
     "output_type": "display_data"
    },
    {
     "data": {
      "text/plain": [
       "'############### LEI Endpoint ###############'"
      ]
     },
     "metadata": {},
     "output_type": "display_data"
    },
    {
     "name": "stdout",
     "output_type": "stream",
     "text": [
      "Non-FDQ\n",
      "Passed Query Status: 200\n",
      "Total time taken by execute function: 0.08599209785461426\n"
     ]
    },
    {
     "data": {
      "text/html": [
       "<div>\n",
       "<style scoped>\n",
       "    .dataframe tbody tr th:only-of-type {\n",
       "        vertical-align: middle;\n",
       "    }\n",
       "\n",
       "    .dataframe tbody tr th {\n",
       "        vertical-align: top;\n",
       "    }\n",
       "\n",
       "    .dataframe thead th {\n",
       "        text-align: right;\n",
       "    }\n",
       "</style>\n",
       "<table border=\"1\" class=\"dataframe\">\n",
       "  <thead>\n",
       "    <tr style=\"text-align: right;\">\n",
       "      <th></th>\n",
       "      <th>Subject</th>\n",
       "      <th>Concept</th>\n",
       "    </tr>\n",
       "  </thead>\n",
       "  <tbody>\n",
       "    <tr>\n",
       "      <th>995</th>\n",
       "      <td>https://data.coypu.org/lei/2138006HHBEMF1TGWU29-LA</td>\n",
       "      <td>https://www.gleif.org/ontology/Base/PhysicalAddress</td>\n",
       "    </tr>\n",
       "    <tr>\n",
       "      <th>996</th>\n",
       "      <td>https://data.coypu.org/lei/2138006HHUG8LC4UD387-LA</td>\n",
       "      <td>https://www.gleif.org/ontology/Base/PhysicalAddress</td>\n",
       "    </tr>\n",
       "    <tr>\n",
       "      <th>997</th>\n",
       "      <td>https://data.coypu.org/lei/2138006HHXWLEK5WVK02-LA</td>\n",
       "      <td>https://www.gleif.org/ontology/Base/PhysicalAddress</td>\n",
       "    </tr>\n",
       "    <tr>\n",
       "      <th>998</th>\n",
       "      <td>https://data.coypu.org/lei/2138006HI1P4JTM2WM22-LA</td>\n",
       "      <td>https://www.gleif.org/ontology/Base/PhysicalAddress</td>\n",
       "    </tr>\n",
       "    <tr>\n",
       "      <th>999</th>\n",
       "      <td>https://data.coypu.org/lei/2138006HI5AF5E1P4T95-LA</td>\n",
       "      <td>https://www.gleif.org/ontology/Base/PhysicalAddress</td>\n",
       "    </tr>\n",
       "  </tbody>\n",
       "</table>\n",
       "</div>"
      ],
      "text/plain": [
       "                                                Subject  \\\n",
       "995  https://data.coypu.org/lei/2138006HHBEMF1TGWU29-LA   \n",
       "996  https://data.coypu.org/lei/2138006HHUG8LC4UD387-LA   \n",
       "997  https://data.coypu.org/lei/2138006HHXWLEK5WVK02-LA   \n",
       "998  https://data.coypu.org/lei/2138006HI1P4JTM2WM22-LA   \n",
       "999  https://data.coypu.org/lei/2138006HI5AF5E1P4T95-LA   \n",
       "\n",
       "                                                 Concept  \n",
       "995  https://www.gleif.org/ontology/Base/PhysicalAddress  \n",
       "996  https://www.gleif.org/ontology/Base/PhysicalAddress  \n",
       "997  https://www.gleif.org/ontology/Base/PhysicalAddress  \n",
       "998  https://www.gleif.org/ontology/Base/PhysicalAddress  \n",
       "999  https://www.gleif.org/ontology/Base/PhysicalAddress  "
      ]
     },
     "metadata": {},
     "output_type": "display_data"
    },
    {
     "data": {
      "text/plain": [
       "'############### ICEWS Endpoint ###############'"
      ]
     },
     "metadata": {},
     "output_type": "display_data"
    },
    {
     "name": "stdout",
     "output_type": "stream",
     "text": [
      "Non-FDQ\n",
      "Passed Query Status: 200\n",
      "Total time taken by execute function: 0.05879378318786621\n"
     ]
    },
    {
     "data": {
      "text/html": [
       "<div>\n",
       "<style scoped>\n",
       "    .dataframe tbody tr th:only-of-type {\n",
       "        vertical-align: middle;\n",
       "    }\n",
       "\n",
       "    .dataframe tbody tr th {\n",
       "        vertical-align: top;\n",
       "    }\n",
       "\n",
       "    .dataframe thead th {\n",
       "        text-align: right;\n",
       "    }\n",
       "</style>\n",
       "<table border=\"1\" class=\"dataframe\">\n",
       "  <thead>\n",
       "    <tr style=\"text-align: right;\">\n",
       "      <th></th>\n",
       "      <th>Subject</th>\n",
       "      <th>Concept</th>\n",
       "    </tr>\n",
       "  </thead>\n",
       "  <tbody>\n",
       "    <tr>\n",
       "      <th>995</th>\n",
       "      <td>https://data.coypu.org/icews/36616020</td>\n",
       "      <td>https://schema.coypu.org/global#SocioPoliticalEvent</td>\n",
       "    </tr>\n",
       "    <tr>\n",
       "      <th>996</th>\n",
       "      <td>https://data.coypu.org/icews/36616021</td>\n",
       "      <td>https://schema.coypu.org/global#SocioPoliticalEvent</td>\n",
       "    </tr>\n",
       "    <tr>\n",
       "      <th>997</th>\n",
       "      <td>https://data.coypu.org/icews/36616024</td>\n",
       "      <td>https://schema.coypu.org/global#SocioPoliticalEvent</td>\n",
       "    </tr>\n",
       "    <tr>\n",
       "      <th>998</th>\n",
       "      <td>https://data.coypu.org/icews/36616025</td>\n",
       "      <td>https://schema.coypu.org/global#SocioPoliticalEvent</td>\n",
       "    </tr>\n",
       "    <tr>\n",
       "      <th>999</th>\n",
       "      <td>https://data.coypu.org/icews/36616026</td>\n",
       "      <td>https://schema.coypu.org/global#SocioPoliticalEvent</td>\n",
       "    </tr>\n",
       "  </tbody>\n",
       "</table>\n",
       "</div>"
      ],
      "text/plain": [
       "                                   Subject  \\\n",
       "995  https://data.coypu.org/icews/36616020   \n",
       "996  https://data.coypu.org/icews/36616021   \n",
       "997  https://data.coypu.org/icews/36616024   \n",
       "998  https://data.coypu.org/icews/36616025   \n",
       "999  https://data.coypu.org/icews/36616026   \n",
       "\n",
       "                                                 Concept  \n",
       "995  https://schema.coypu.org/global#SocioPoliticalEvent  \n",
       "996  https://schema.coypu.org/global#SocioPoliticalEvent  \n",
       "997  https://schema.coypu.org/global#SocioPoliticalEvent  \n",
       "998  https://schema.coypu.org/global#SocioPoliticalEvent  \n",
       "999  https://schema.coypu.org/global#SocioPoliticalEvent  "
      ]
     },
     "metadata": {},
     "output_type": "display_data"
    },
    {
     "data": {
      "text/plain": [
       "'############### Detrusty Endpoint ###############'"
      ]
     },
     "metadata": {},
     "output_type": "display_data"
    },
    {
     "name": "stdout",
     "output_type": "stream",
     "text": [
      "auth_type and is_fdq\n",
      "Passed Query Status: 200\n",
      "Total time taken by execute function: 1.1145105361938477\n"
     ]
    },
    {
     "data": {
      "text/html": [
       "<div>\n",
       "<style scoped>\n",
       "    .dataframe tbody tr th:only-of-type {\n",
       "        vertical-align: middle;\n",
       "    }\n",
       "\n",
       "    .dataframe tbody tr th {\n",
       "        vertical-align: top;\n",
       "    }\n",
       "\n",
       "    .dataframe thead th {\n",
       "        text-align: right;\n",
       "    }\n",
       "</style>\n",
       "<table border=\"1\" class=\"dataframe\">\n",
       "  <thead>\n",
       "    <tr style=\"text-align: right;\">\n",
       "      <th></th>\n",
       "      <th>Concept.type</th>\n",
       "      <th>Concept.value</th>\n",
       "      <th>Subject.type</th>\n",
       "      <th>Subject.value</th>\n",
       "      <th>__meta__.is_verified</th>\n",
       "    </tr>\n",
       "  </thead>\n",
       "  <tbody>\n",
       "    <tr>\n",
       "      <th>995</th>\n",
       "      <td>uri</td>\n",
       "      <td>https://schema.coypu.org/global#RegionalIndustry</td>\n",
       "      <td>uri</td>\n",
       "      <td>https://data.coypu.org/industry/exiobase/regional/Mining_of_lead_zinc_and_tin_ores_and_concentrates_WF</td>\n",
       "      <td>True</td>\n",
       "    </tr>\n",
       "    <tr>\n",
       "      <th>996</th>\n",
       "      <td>uri</td>\n",
       "      <td>https://schema.coypu.org/global#RegionalIndustry</td>\n",
       "      <td>uri</td>\n",
       "      <td>https://data.coypu.org/industry/exiobase/regional/Cultivation_of_oil_seeds_CY</td>\n",
       "      <td>True</td>\n",
       "    </tr>\n",
       "    <tr>\n",
       "      <th>997</th>\n",
       "      <td>uri</td>\n",
       "      <td>https://schema.coypu.org/global#RegionalIndustry</td>\n",
       "      <td>uri</td>\n",
       "      <td>https://data.coypu.org/industry/exiobase/regional/Processing_of_Food_products_nec_BG</td>\n",
       "      <td>True</td>\n",
       "    </tr>\n",
       "    <tr>\n",
       "      <th>998</th>\n",
       "      <td>uri</td>\n",
       "      <td>https://schema.coypu.org/global#RegionalIndustry</td>\n",
       "      <td>uri</td>\n",
       "      <td>https://data.coypu.org/industry/exiobase/regional/Extraction_of_natural_gas_and_services_related_to_natural_gas_extraction_excluding_surveying_LU</td>\n",
       "      <td>True</td>\n",
       "    </tr>\n",
       "    <tr>\n",
       "      <th>999</th>\n",
       "      <td>uri</td>\n",
       "      <td>https://schema.coypu.org/global#RegionalIndustry</td>\n",
       "      <td>uri</td>\n",
       "      <td>https://data.coypu.org/industry/exiobase/regional/Cultivation_of_cereal_grains_nec_LV</td>\n",
       "      <td>True</td>\n",
       "    </tr>\n",
       "  </tbody>\n",
       "</table>\n",
       "</div>"
      ],
      "text/plain": [
       "    Concept.type                                     Concept.value  \\\n",
       "995          uri  https://schema.coypu.org/global#RegionalIndustry   \n",
       "996          uri  https://schema.coypu.org/global#RegionalIndustry   \n",
       "997          uri  https://schema.coypu.org/global#RegionalIndustry   \n",
       "998          uri  https://schema.coypu.org/global#RegionalIndustry   \n",
       "999          uri  https://schema.coypu.org/global#RegionalIndustry   \n",
       "\n",
       "    Subject.type  \\\n",
       "995          uri   \n",
       "996          uri   \n",
       "997          uri   \n",
       "998          uri   \n",
       "999          uri   \n",
       "\n",
       "                                                                                                                                         Subject.value  \\\n",
       "995                                             https://data.coypu.org/industry/exiobase/regional/Mining_of_lead_zinc_and_tin_ores_and_concentrates_WF   \n",
       "996                                                                      https://data.coypu.org/industry/exiobase/regional/Cultivation_of_oil_seeds_CY   \n",
       "997                                                               https://data.coypu.org/industry/exiobase/regional/Processing_of_Food_products_nec_BG   \n",
       "998  https://data.coypu.org/industry/exiobase/regional/Extraction_of_natural_gas_and_services_related_to_natural_gas_extraction_excluding_surveying_LU   \n",
       "999                                                              https://data.coypu.org/industry/exiobase/regional/Cultivation_of_cereal_grains_nec_LV   \n",
       "\n",
       "     __meta__.is_verified  \n",
       "995                  True  \n",
       "996                  True  \n",
       "997                  True  \n",
       "998                  True  \n",
       "999                  True  "
      ]
     },
     "metadata": {},
     "output_type": "display_data"
    }
   ],
   "source": [
    "# Demo query to all available enpoints\n",
    "\n",
    "# demo query\n",
    "query_test = \"\"\"SELECT * WHERE{ ?Subject a ?Concept }LIMIT 1000\"\"\"\n",
    "\n",
    "\n",
    "# creating request for cmemc\n",
    "display(\"############### Cmemc Endpoint ###############\")\n",
    "cmemc_request = SPARQLRequest(client_url_imp, client_id_imp, client_secret_imp , 'oauth')\n",
    "# executing query and printing response\n",
    "cmemc_request.execute(query_test)\n",
    "buf = StringIO(cmemc_request.response.content.decode('utf-8'), newline='\\r\\n')          \n",
    "display(pd.read_csv(buf, encoding='utf-8').tail(5))\n",
    "\n",
    "# creating request for skynet\n",
    "display(\"############### Skynet Endpoint ###############\")\n",
    "skynet_request = SPARQLRequest(skynet_endpoint, skynet_user, skynet_pass, 'basic')\n",
    "# executing query and printing response\n",
    "skynet_request.execute(query_test)\n",
    "buf = StringIO(skynet_request.response.content.decode('utf-8'), newline='\\r\\n')          \n",
    "display(pd.read_csv(buf, encoding='utf-8').tail(5))\n",
    "\n",
    "# creating request for worldbank\n",
    "display(\"############### Worldbank Endpoint ###############\")\n",
    "worldbank_request = SPARQLRequest(worldbank_endpoint)\n",
    "# executing query and printing response\n",
    "worldbank_request.execute(query_test)\n",
    "display(worldbank_request.response.status_code)\n",
    "buf = StringIO(worldbank_request.response.content.decode('utf-8'), newline='\\r\\n')          \n",
    "display(pd.read_csv(buf, encoding='utf-8').tail(5))\n",
    "\n",
    "# creating request for LEI\n",
    "display(\"############### LEI Endpoint ###############\")\n",
    "lei_request = SPARQLRequest(lei_endpoint)\n",
    "# executing query and printing response\n",
    "lei_request.execute(query_test)\n",
    "buf = StringIO(lei_request.response.content.decode('utf-8'), newline='\\r\\n')          \n",
    "display(pd.read_csv(buf, encoding='utf-8').tail(5))\n",
    "\n",
    "# creating request for ICEWS\n",
    "display(\"############### ICEWS Endpoint ###############\")\n",
    "icews_request = SPARQLRequest(icews_endpoint)\n",
    "# executing query and printing response\n",
    "icews_request.execute(query_test)\n",
    "buf = StringIO(icews_request.response.content.decode('utf-8'), newline='\\r\\n')          \n",
    "display(pd.read_csv(buf, encoding='utf-8').tail(5))\n",
    "\n",
    "\n",
    "# creating request for Detrusty\n",
    "display(\"############### Detrusty Endpoint ###############\")\n",
    "detrusty_request = SPARQLRequest(detrusty_endpoint, detrusty_user, detrusty_pass, 'basic', is_fdq=True)\n",
    "# executing query and printing response\n",
    "detrusty_request.execute(query_test)\n",
    "# print(detrusty_request.response.json()['results']['bindings'])\n",
    "# buf = StringIO(detrusty_request.response.content.decode('utf-8'), newline='\\r\\n')          \n",
    "display(pd.json_normalize(detrusty_request.response.json()['results']['bindings']).tail(5))\n"
   ]
  },
  {
   "cell_type": "markdown",
   "id": "3b610e0f-a2e6-43dc-a755-ec47c352c4c1",
   "metadata": {},
   "source": [
    "## Federated Query"
   ]
  },
  {
   "cell_type": "code",
   "execution_count": 3,
   "id": "849bcb53-a494-41a0-847b-7e2d58015579",
   "metadata": {},
   "outputs": [
    {
     "data": {
      "text/plain": [
       "'############### Federated Query ###############'"
      ]
     },
     "metadata": {},
     "output_type": "display_data"
    },
    {
     "ename": "NameError",
     "evalue": "name 'config_public' is not defined",
     "output_type": "error",
     "traceback": [
      "\u001b[0;31m---------------------------------------------------------------------------\u001b[0m",
      "\u001b[0;31mNameError\u001b[0m                                 Traceback (most recent call last)",
      "Cell \u001b[0;32mIn [3], line 4\u001b[0m\n\u001b[1;32m      2\u001b[0m display(\u001b[38;5;124m\"\u001b[39m\u001b[38;5;124m############### Federated Query ###############\u001b[39m\u001b[38;5;124m\"\u001b[39m)\n\u001b[1;32m      3\u001b[0m fdq_request \u001b[38;5;241m=\u001b[39m SPARQLRequest(is_fdq\u001b[38;5;241m=\u001b[39m\u001b[38;5;28;01mTrue\u001b[39;00m)\n\u001b[0;32m----> 4\u001b[0m fdq_request\u001b[38;5;241m.\u001b[39mexecute(query_test, \u001b[43mconfig_public\u001b[49m, \u001b[38;5;28;01mFalse\u001b[39;00m)\n\u001b[1;32m      5\u001b[0m fdq_request\u001b[38;5;241m.\u001b[39msave(\u001b[38;5;124m'\u001b[39m\u001b[38;5;124m../query_results/\u001b[39m\u001b[38;5;124m'\u001b[39m, \u001b[38;5;124m'\u001b[39m\u001b[38;5;124mquery_test\u001b[39m\u001b[38;5;124m'\u001b[39m)\n",
      "\u001b[0;31mNameError\u001b[0m: name 'config_public' is not defined"
     ]
    }
   ],
   "source": [
    "# creating request for Federated Query\n",
    "display(\"############### Federated Query ###############\")\n",
    "# executing query and printing response\n",
    "fdq_request = SPARQLRequest(detrusty_endpoint, detrusty_user, detrusty_pass, 'basic', is_fdq=True)\n",
    "fdq_request.execute(query_1_fdq_ex_1)\n",
    "fdq_request.save('../query_results/', 'query_test')"
   ]
  },
  {
   "cell_type": "code",
   "execution_count": null,
   "id": "83d1db32-df50-48a5-a9a0-39a582c6fdf5",
   "metadata": {},
   "outputs": [],
   "source": [
    "print(query_1_fdq_ex_1)"
   ]
  },
  {
   "cell_type": "code",
   "execution_count": null,
   "id": "9e47c410-b348-4c1e-90cf-2abcd0aeef98",
   "metadata": {},
   "outputs": [],
   "source": [
    "print(query_1_fdq_ex_1)\n",
    "\n",
    "fdq_request.execute(query_1_fdq_ex_1, config_private, False)\n",
    "fdq_request.save('../query_results/', 'query_1_fdq_ex_1')"
   ]
  },
  {
   "cell_type": "markdown",
   "id": "b557c4cd-268e-41a3-b89b-f2b5558a291d",
   "metadata": {},
   "source": [
    "## Visualization"
   ]
  },
  {
   "cell_type": "code",
   "execution_count": null,
   "id": "ab400c3f-c92b-4b6e-b051-ef5530f75ddc",
   "metadata": {},
   "outputs": [],
   "source": [
    "def carbon_emission_group(carbon_emission):\n",
    "    if carbon_emission/1000000 < 0.25:\n",
    "        return '0.00-0.25'\n",
    "    elif carbon_emission/1000000 >= 0.25 and carbon_emission/1000000 < 0.5:\n",
    "        return '0.25-0.5'\n",
    "    elif carbon_emission/1000000 >= 0.5 and carbon_emission/1000000 < 0.75:\n",
    "        return '0.50-0.75'\n",
    "    else:\n",
    "        return '> 0.75'\n",
    "    \n",
    "\n",
    "df = pd.read_csv('../query_results/query_1_fdq_ex_1.csv', encoding='utf-8')\n",
    "df.rename(columns=lambda x: x.replace('.value', ''), inplace=True)\n",
    "df['carbon_emission(1e6)'] = df['carbon_emission'].apply(carbon_emission_group)\n",
    "df.sort_values(by='year', ascending=True, inplace=True)\n",
    "\n",
    "df.head(10)"
   ]
  },
  {
   "cell_type": "code",
   "execution_count": null,
   "id": "815e669d-34f1-4637-ab70-427021f4e240",
   "metadata": {},
   "outputs": [],
   "source": [
    "\n",
    "fig = px.scatter_geo(df, locations=\"country_code\", color=\"carbon_emission(1e6)\",\n",
    "                     hover_data=['carbon_emission'], size=\"no_of_disasters\",\n",
    "                     animation_frame=\"year\",\n",
    "                     projection=\"equirectangular\", scope='europe')\n",
    "fig.update_layout(title_text='Carbon emission and the number of disaster events for various countries across years',\\\n",
    "                  title_font_color=\"red\", title_font_family=\"Times New Roman\", title_font_size=25)\n",
    "fig.write_html('../query_results/query_1_fdq_ex_1.html')\n",
    "fig.show()"
   ]
  }
 ],
 "metadata": {
  "kernelspec": {
   "display_name": "Python 3 (ipykernel)",
   "language": "python",
   "name": "python3"
  },
  "language_info": {
   "codemirror_mode": {
    "name": "ipython",
    "version": 3
   },
   "file_extension": ".py",
   "mimetype": "text/x-python",
   "name": "python",
   "nbconvert_exporter": "python",
   "pygments_lexer": "ipython3",
   "version": "3.10.8"
  },
  "toc-autonumbering": true,
  "toc-showcode": true,
  "toc-showmarkdowntxt": true,
  "vscode": {
   "interpreter": {
    "hash": "128160bff7784810a71e3e75e798d235a04fa46b896c5052f88a83f31670d3ef"
   }
  }
 },
 "nbformat": 4,
 "nbformat_minor": 5
}
